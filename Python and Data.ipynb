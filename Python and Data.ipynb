{
 "cells": [
  {
   "cell_type": "code",
   "execution_count": 1,
   "id": "db770d38-f0ef-408b-8760-d97b76de766e",
   "metadata": {},
   "outputs": [
    {
     "data": {
      "text/plain": [
       "'\\ncsv : 2d\\njson : 2d+\\nparquet : column oriented formats\\n'"
      ]
     },
     "execution_count": 1,
     "metadata": {},
     "output_type": "execute_result"
    }
   ],
   "source": [
    "# Python and Data\n",
    "'''\n",
    "csv : 2d\n",
    "json : 2d+\n",
    "parquet : column oriented formats\n",
    "'''"
   ]
  },
  {
   "cell_type": "code",
   "execution_count": 2,
   "id": "d3d1f545-3926-4872-a987-4ff76347e01d",
   "metadata": {},
   "outputs": [],
   "source": [
    "import csv"
   ]
  },
  {
   "cell_type": "code",
   "execution_count": 3,
   "id": "a53a6951-009c-466e-96d9-b61f9635b5ab",
   "metadata": {},
   "outputs": [],
   "source": [
    "# Open file\n",
    "f = open('./titanic.csv')\n",
    "# read csv file and store it as opaque object in reader variable\n",
    "reader = csv.reader(f)\n",
    "# list(reader)"
   ]
  },
  {
   "cell_type": "code",
   "execution_count": 4,
   "id": "54836755-3a4a-4b25-b331-03fc472c38da",
   "metadata": {},
   "outputs": [
    {
     "name": "stdout",
     "output_type": "stream",
     "text": [
      "['Survived', 'Pclass', 'Sex', 'Age', 'Siblings/Spouses', 'Parents/Children', 'Fare']\n"
     ]
    }
   ],
   "source": [
    "# next() is used to increase the pointer by one and return the row at which the pointer was previously\n",
    "header = next(reader)\n",
    "print(header)"
   ]
  },
  {
   "cell_type": "code",
   "execution_count": 5,
   "id": "869a11aa-5455-4ff9-8c96-e5416d028982",
   "metadata": {},
   "outputs": [
    {
     "name": "stdout",
     "output_type": "stream",
     "text": [
      "Total 342 no. of people survived.\n"
     ]
    }
   ],
   "source": [
    "# Count total number of people survived.\n",
    "count = 0\n",
    "for row in reader:\n",
    "    if row[0] == \"1\":\n",
    "        count+=1\n",
    "print(f\"Total {count} no. of people survived.\")\n",
    "    \n",
    "    "
   ]
  },
  {
   "cell_type": "code",
   "execution_count": 6,
   "id": "200a136a-9fd9-411f-bfe2-fd027078fedc",
   "metadata": {},
   "outputs": [],
   "source": [
    "# JSON"
   ]
  },
  {
   "cell_type": "code",
   "execution_count": 7,
   "id": "333a6272-7e75-4076-a6d9-1cf65e33a8d9",
   "metadata": {},
   "outputs": [],
   "source": [
    "import json"
   ]
  },
  {
   "cell_type": "code",
   "execution_count": 8,
   "id": "59eae731-9e4f-467b-bc90-4dfd42f32ffe",
   "metadata": {},
   "outputs": [],
   "source": [
    "f = open(\"./titanic.json\")\n",
    "titanic = json.load(f)"
   ]
  },
  {
   "cell_type": "code",
   "execution_count": 9,
   "id": "dc5b3b5d-adcf-4c73-9b1b-ee74e03b3fcb",
   "metadata": {},
   "outputs": [
    {
     "data": {
      "text/plain": [
       "list"
      ]
     },
     "execution_count": 9,
     "metadata": {},
     "output_type": "execute_result"
    }
   ],
   "source": [
    "type(titanic)"
   ]
  },
  {
   "cell_type": "code",
   "execution_count": 10,
   "id": "40f4671f-6709-4100-a459-00931242b655",
   "metadata": {},
   "outputs": [],
   "source": [
    "# Pandas"
   ]
  },
  {
   "cell_type": "code",
   "execution_count": 11,
   "id": "998a3fa4-2589-427c-b464-12ddee5424bb",
   "metadata": {},
   "outputs": [],
   "source": [
    "import pandas as pd\n",
    "import seaborn\n",
    "import sklearn"
   ]
  },
  {
   "cell_type": "code",
   "execution_count": 12,
   "id": "1db59ee1-861e-4ee2-afa0-c3c0c51f9970",
   "metadata": {},
   "outputs": [],
   "source": [
    "df = pd.read_csv('titanic.csv')"
   ]
  },
  {
   "cell_type": "code",
   "execution_count": 13,
   "id": "75edc37a-8112-4eb9-9127-4668ae34613a",
   "metadata": {},
   "outputs": [
    {
     "data": {
      "text/plain": [
       "6209"
      ]
     },
     "execution_count": 13,
     "metadata": {},
     "output_type": "execute_result"
    }
   ],
   "source": [
    "df.size"
   ]
  },
  {
   "cell_type": "code",
   "execution_count": 14,
   "id": "87b9b7dd-efdd-4c96-a7d3-b9ed866a8345",
   "metadata": {},
   "outputs": [
    {
     "data": {
      "text/plain": [
       "(887, 7)"
      ]
     },
     "execution_count": 14,
     "metadata": {},
     "output_type": "execute_result"
    }
   ],
   "source": [
    "df.shape"
   ]
  },
  {
   "cell_type": "code",
   "execution_count": 15,
   "id": "e672cb5d-ee36-4cd8-85ce-0b48e4a2de3d",
   "metadata": {},
   "outputs": [
    {
     "data": {
      "text/html": [
       "<div>\n",
       "<style scoped>\n",
       "    .dataframe tbody tr th:only-of-type {\n",
       "        vertical-align: middle;\n",
       "    }\n",
       "\n",
       "    .dataframe tbody tr th {\n",
       "        vertical-align: top;\n",
       "    }\n",
       "\n",
       "    .dataframe thead th {\n",
       "        text-align: right;\n",
       "    }\n",
       "</style>\n",
       "<table border=\"1\" class=\"dataframe\">\n",
       "  <thead>\n",
       "    <tr style=\"text-align: right;\">\n",
       "      <th></th>\n",
       "      <th>Survived</th>\n",
       "      <th>Pclass</th>\n",
       "      <th>Sex</th>\n",
       "      <th>Age</th>\n",
       "      <th>Siblings/Spouses</th>\n",
       "      <th>Parents/Children</th>\n",
       "      <th>Fare</th>\n",
       "    </tr>\n",
       "  </thead>\n",
       "  <tbody>\n",
       "    <tr>\n",
       "      <th>0</th>\n",
       "      <td>0</td>\n",
       "      <td>3</td>\n",
       "      <td>male</td>\n",
       "      <td>22.0</td>\n",
       "      <td>1</td>\n",
       "      <td>0</td>\n",
       "      <td>7.2500</td>\n",
       "    </tr>\n",
       "    <tr>\n",
       "      <th>1</th>\n",
       "      <td>1</td>\n",
       "      <td>1</td>\n",
       "      <td>female</td>\n",
       "      <td>38.0</td>\n",
       "      <td>1</td>\n",
       "      <td>0</td>\n",
       "      <td>71.2833</td>\n",
       "    </tr>\n",
       "    <tr>\n",
       "      <th>2</th>\n",
       "      <td>1</td>\n",
       "      <td>3</td>\n",
       "      <td>female</td>\n",
       "      <td>26.0</td>\n",
       "      <td>0</td>\n",
       "      <td>0</td>\n",
       "      <td>7.9250</td>\n",
       "    </tr>\n",
       "    <tr>\n",
       "      <th>3</th>\n",
       "      <td>1</td>\n",
       "      <td>1</td>\n",
       "      <td>female</td>\n",
       "      <td>35.0</td>\n",
       "      <td>1</td>\n",
       "      <td>0</td>\n",
       "      <td>53.1000</td>\n",
       "    </tr>\n",
       "    <tr>\n",
       "      <th>4</th>\n",
       "      <td>0</td>\n",
       "      <td>3</td>\n",
       "      <td>male</td>\n",
       "      <td>35.0</td>\n",
       "      <td>0</td>\n",
       "      <td>0</td>\n",
       "      <td>8.0500</td>\n",
       "    </tr>\n",
       "  </tbody>\n",
       "</table>\n",
       "</div>"
      ],
      "text/plain": [
       "   Survived  Pclass     Sex   Age  Siblings/Spouses  Parents/Children     Fare\n",
       "0         0       3    male  22.0                 1                 0   7.2500\n",
       "1         1       1  female  38.0                 1                 0  71.2833\n",
       "2         1       3  female  26.0                 0                 0   7.9250\n",
       "3         1       1  female  35.0                 1                 0  53.1000\n",
       "4         0       3    male  35.0                 0                 0   8.0500"
      ]
     },
     "execution_count": 15,
     "metadata": {},
     "output_type": "execute_result"
    }
   ],
   "source": [
    "df.head()"
   ]
  },
  {
   "cell_type": "code",
   "execution_count": 16,
   "id": "cdbd177b-5ec5-443c-aa7a-1c17af3073e9",
   "metadata": {},
   "outputs": [],
   "source": [
    "## DAY 2"
   ]
  },
  {
   "cell_type": "code",
   "execution_count": 17,
   "id": "b1e38e65-91f0-4423-bc51-20448e26df71",
   "metadata": {},
   "outputs": [],
   "source": [
    "df = pd.read_csv(\"./Olympic_medals.csv\")"
   ]
  },
  {
   "cell_type": "code",
   "execution_count": 18,
   "id": "ac7c9c77-92d6-4c1c-adc1-4ba2ce71d830",
   "metadata": {},
   "outputs": [
    {
     "data": {
      "text/html": [
       "<div>\n",
       "<style scoped>\n",
       "    .dataframe tbody tr th:only-of-type {\n",
       "        vertical-align: middle;\n",
       "    }\n",
       "\n",
       "    .dataframe tbody tr th {\n",
       "        vertical-align: top;\n",
       "    }\n",
       "\n",
       "    .dataframe thead th {\n",
       "        text-align: right;\n",
       "    }\n",
       "</style>\n",
       "<table border=\"1\" class=\"dataframe\">\n",
       "  <thead>\n",
       "    <tr style=\"text-align: right;\">\n",
       "      <th></th>\n",
       "      <th>City</th>\n",
       "      <th>Year</th>\n",
       "      <th>Sport</th>\n",
       "      <th>Discipline</th>\n",
       "      <th>Event</th>\n",
       "      <th>Athlete</th>\n",
       "      <th>Gender</th>\n",
       "      <th>Country_Code</th>\n",
       "      <th>Country</th>\n",
       "      <th>Event_gender</th>\n",
       "      <th>Medal</th>\n",
       "    </tr>\n",
       "  </thead>\n",
       "  <tbody>\n",
       "    <tr>\n",
       "      <th>0</th>\n",
       "      <td>Montreal</td>\n",
       "      <td>1976.0</td>\n",
       "      <td>Aquatics</td>\n",
       "      <td>Diving</td>\n",
       "      <td>3m springboard</td>\n",
       "      <td>K�HLER, Christa</td>\n",
       "      <td>Women</td>\n",
       "      <td>GDR</td>\n",
       "      <td>East Germany</td>\n",
       "      <td>W</td>\n",
       "      <td>Silver</td>\n",
       "    </tr>\n",
       "    <tr>\n",
       "      <th>1</th>\n",
       "      <td>Montreal</td>\n",
       "      <td>1976.0</td>\n",
       "      <td>Aquatics</td>\n",
       "      <td>Diving</td>\n",
       "      <td>3m springboard</td>\n",
       "      <td>KOSENKOV, Aleksandr</td>\n",
       "      <td>Men</td>\n",
       "      <td>URS</td>\n",
       "      <td>Soviet Union</td>\n",
       "      <td>M</td>\n",
       "      <td>Bronze</td>\n",
       "    </tr>\n",
       "    <tr>\n",
       "      <th>2</th>\n",
       "      <td>Montreal</td>\n",
       "      <td>1976.0</td>\n",
       "      <td>Aquatics</td>\n",
       "      <td>Diving</td>\n",
       "      <td>3m springboard</td>\n",
       "      <td>BOGGS, Philip George</td>\n",
       "      <td>Men</td>\n",
       "      <td>USA</td>\n",
       "      <td>United States</td>\n",
       "      <td>M</td>\n",
       "      <td>Gold</td>\n",
       "    </tr>\n",
       "    <tr>\n",
       "      <th>3</th>\n",
       "      <td>Montreal</td>\n",
       "      <td>1976.0</td>\n",
       "      <td>Aquatics</td>\n",
       "      <td>Diving</td>\n",
       "      <td>3m springboard</td>\n",
       "      <td>CAGNOTTO, Giorgio Franco</td>\n",
       "      <td>Men</td>\n",
       "      <td>ITA</td>\n",
       "      <td>Italy</td>\n",
       "      <td>M</td>\n",
       "      <td>Silver</td>\n",
       "    </tr>\n",
       "    <tr>\n",
       "      <th>4</th>\n",
       "      <td>Montreal</td>\n",
       "      <td>1976.0</td>\n",
       "      <td>Aquatics</td>\n",
       "      <td>Diving</td>\n",
       "      <td>10m platform</td>\n",
       "      <td>WILSON, Deborah Keplar</td>\n",
       "      <td>Women</td>\n",
       "      <td>USA</td>\n",
       "      <td>United States</td>\n",
       "      <td>W</td>\n",
       "      <td>Bronze</td>\n",
       "    </tr>\n",
       "    <tr>\n",
       "      <th>...</th>\n",
       "      <td>...</td>\n",
       "      <td>...</td>\n",
       "      <td>...</td>\n",
       "      <td>...</td>\n",
       "      <td>...</td>\n",
       "      <td>...</td>\n",
       "      <td>...</td>\n",
       "      <td>...</td>\n",
       "      <td>...</td>\n",
       "      <td>...</td>\n",
       "      <td>...</td>\n",
       "    </tr>\n",
       "    <tr>\n",
       "      <th>15428</th>\n",
       "      <td>Beijing</td>\n",
       "      <td>2008.0</td>\n",
       "      <td>Wrestling</td>\n",
       "      <td>Wrestling Gre-R</td>\n",
       "      <td>66 - 74kg</td>\n",
       "      <td>GUENOT, Christophe</td>\n",
       "      <td>Men</td>\n",
       "      <td>FRA</td>\n",
       "      <td>France</td>\n",
       "      <td>M</td>\n",
       "      <td>Bronze</td>\n",
       "    </tr>\n",
       "    <tr>\n",
       "      <th>15429</th>\n",
       "      <td>Beijing</td>\n",
       "      <td>2008.0</td>\n",
       "      <td>Wrestling</td>\n",
       "      <td>Wrestling Gre-R</td>\n",
       "      <td>66 - 74kg</td>\n",
       "      <td>KVIRKELIA, Manuchar</td>\n",
       "      <td>Men</td>\n",
       "      <td>GEO</td>\n",
       "      <td>Georgia</td>\n",
       "      <td>M</td>\n",
       "      <td>Gold</td>\n",
       "    </tr>\n",
       "    <tr>\n",
       "      <th>15430</th>\n",
       "      <td>Beijing</td>\n",
       "      <td>2008.0</td>\n",
       "      <td>Wrestling</td>\n",
       "      <td>Wrestling Gre-R</td>\n",
       "      <td>55 - 60kg</td>\n",
       "      <td>RAHIMOV, Vitaliy</td>\n",
       "      <td>Men</td>\n",
       "      <td>AZE</td>\n",
       "      <td>Azerbaijan</td>\n",
       "      <td>M</td>\n",
       "      <td>Silver</td>\n",
       "    </tr>\n",
       "    <tr>\n",
       "      <th>15431</th>\n",
       "      <td>Beijing</td>\n",
       "      <td>2008.0</td>\n",
       "      <td>Wrestling</td>\n",
       "      <td>Wrestling Gre-R</td>\n",
       "      <td>60 - 66kg</td>\n",
       "      <td>GUENOT, Steeve</td>\n",
       "      <td>Men</td>\n",
       "      <td>FRA</td>\n",
       "      <td>France</td>\n",
       "      <td>M</td>\n",
       "      <td>Gold</td>\n",
       "    </tr>\n",
       "    <tr>\n",
       "      <th>15432</th>\n",
       "      <td>Beijing</td>\n",
       "      <td>2008.0</td>\n",
       "      <td>Wrestling</td>\n",
       "      <td>Wrestling Gre-R</td>\n",
       "      <td>96 - 120kg</td>\n",
       "      <td>LOPEZ, Mijain</td>\n",
       "      <td>Men</td>\n",
       "      <td>CUB</td>\n",
       "      <td>Cuba</td>\n",
       "      <td>M</td>\n",
       "      <td>Gold</td>\n",
       "    </tr>\n",
       "  </tbody>\n",
       "</table>\n",
       "<p>15433 rows × 11 columns</p>\n",
       "</div>"
      ],
      "text/plain": [
       "           City    Year      Sport       Discipline           Event  \\\n",
       "0      Montreal  1976.0   Aquatics           Diving  3m springboard   \n",
       "1      Montreal  1976.0   Aquatics           Diving  3m springboard   \n",
       "2      Montreal  1976.0   Aquatics           Diving  3m springboard   \n",
       "3      Montreal  1976.0   Aquatics           Diving  3m springboard   \n",
       "4      Montreal  1976.0   Aquatics           Diving    10m platform   \n",
       "...         ...     ...        ...              ...             ...   \n",
       "15428   Beijing  2008.0  Wrestling  Wrestling Gre-R       66 - 74kg   \n",
       "15429   Beijing  2008.0  Wrestling  Wrestling Gre-R       66 - 74kg   \n",
       "15430   Beijing  2008.0  Wrestling  Wrestling Gre-R       55 - 60kg   \n",
       "15431   Beijing  2008.0  Wrestling  Wrestling Gre-R       60 - 66kg   \n",
       "15432   Beijing  2008.0  Wrestling  Wrestling Gre-R      96 - 120kg   \n",
       "\n",
       "                        Athlete Gender Country_Code        Country  \\\n",
       "0               K�HLER, Christa  Women          GDR   East Germany   \n",
       "1           KOSENKOV, Aleksandr    Men          URS   Soviet Union   \n",
       "2          BOGGS, Philip George    Men          USA  United States   \n",
       "3      CAGNOTTO, Giorgio Franco    Men          ITA          Italy   \n",
       "4        WILSON, Deborah Keplar  Women          USA  United States   \n",
       "...                         ...    ...          ...            ...   \n",
       "15428        GUENOT, Christophe    Men          FRA         France   \n",
       "15429       KVIRKELIA, Manuchar    Men          GEO        Georgia   \n",
       "15430          RAHIMOV, Vitaliy    Men          AZE     Azerbaijan   \n",
       "15431            GUENOT, Steeve    Men          FRA         France   \n",
       "15432             LOPEZ, Mijain    Men          CUB           Cuba   \n",
       "\n",
       "      Event_gender   Medal  \n",
       "0                W  Silver  \n",
       "1                M  Bronze  \n",
       "2                M    Gold  \n",
       "3                M  Silver  \n",
       "4                W  Bronze  \n",
       "...            ...     ...  \n",
       "15428            M  Bronze  \n",
       "15429            M    Gold  \n",
       "15430            M  Silver  \n",
       "15431            M    Gold  \n",
       "15432            M    Gold  \n",
       "\n",
       "[15433 rows x 11 columns]"
      ]
     },
     "execution_count": 18,
     "metadata": {},
     "output_type": "execute_result"
    }
   ],
   "source": [
    "df"
   ]
  },
  {
   "cell_type": "code",
   "execution_count": 19,
   "id": "a07f08f2-c7e6-4364-9aff-4663d3acb1b7",
   "metadata": {},
   "outputs": [
    {
     "data": {
      "text/plain": [
       "pandas.core.frame.DataFrame"
      ]
     },
     "execution_count": 19,
     "metadata": {},
     "output_type": "execute_result"
    }
   ],
   "source": [
    "type(df)"
   ]
  },
  {
   "cell_type": "code",
   "execution_count": 20,
   "id": "7035ebc1-5b54-4af4-b7df-e3a5e97128aa",
   "metadata": {},
   "outputs": [
    {
     "data": {
      "text/plain": [
       "(15433, 15433)"
      ]
     },
     "execution_count": 20,
     "metadata": {},
     "output_type": "execute_result"
    }
   ],
   "source": [
    "len(df), len(df['City'])"
   ]
  },
  {
   "cell_type": "code",
   "execution_count": 21,
   "id": "d2684815-dfcd-4b9a-854b-c93e0a4dd9ea",
   "metadata": {},
   "outputs": [
    {
     "data": {
      "text/plain": [
       "(pandas.core.series.Series, numpy.float64)"
      ]
     },
     "execution_count": 21,
     "metadata": {},
     "output_type": "execute_result"
    }
   ],
   "source": [
    "type(df[\"Year\"]), type(df[\"Year\"][0])"
   ]
  },
  {
   "cell_type": "code",
   "execution_count": 22,
   "id": "da87608f-b566-4e45-8522-1cf24996d6e8",
   "metadata": {},
   "outputs": [
    {
     "data": {
      "text/plain": [
       "0        1976.0\n",
       "1        1976.0\n",
       "2        1976.0\n",
       "3        1976.0\n",
       "4        1976.0\n",
       "          ...  \n",
       "15428    2008.0\n",
       "15429    2008.0\n",
       "15430    2008.0\n",
       "15431    2008.0\n",
       "15432    2008.0\n",
       "Name: Year, Length: 15433, dtype: float64"
      ]
     },
     "execution_count": 22,
     "metadata": {},
     "output_type": "execute_result"
    }
   ],
   "source": [
    "df[\"Year\"]"
   ]
  },
  {
   "cell_type": "code",
   "execution_count": 23,
   "id": "ccb0d570-96ea-4190-861d-3b262e0dc8ac",
   "metadata": {},
   "outputs": [
    {
     "data": {
      "text/plain": [
       "0        1976.0\n",
       "1        1976.0\n",
       "2        1976.0\n",
       "3        1976.0\n",
       "4        1976.0\n",
       "          ...  \n",
       "15428    2008.0\n",
       "15429    2008.0\n",
       "15430    2008.0\n",
       "15431    2008.0\n",
       "15432    2008.0\n",
       "Name: Year, Length: 15433, dtype: float64"
      ]
     },
     "execution_count": 23,
     "metadata": {},
     "output_type": "execute_result"
    }
   ],
   "source": [
    "# Above command can also be accomplished in this way. but it has its lilitations:\n",
    "# it cant support names with spaces and names that are reserved keywords\n",
    "df.Year"
   ]
  },
  {
   "cell_type": "code",
   "execution_count": 24,
   "id": "c4601702-af39-43d1-b0fe-24f8d9acab0a",
   "metadata": {},
   "outputs": [
    {
     "data": {
      "text/plain": [
       "Index(['City', 'Year', 'Sport', 'Discipline', 'Event', 'Athlete', 'Gender',\n",
       "       'Country_Code', 'Country', 'Event_gender', 'Medal'],\n",
       "      dtype='object')"
      ]
     },
     "execution_count": 24,
     "metadata": {},
     "output_type": "execute_result"
    }
   ],
   "source": [
    "df.columns"
   ]
  },
  {
   "cell_type": "code",
   "execution_count": 25,
   "id": "03722f80-7571-4373-8b80-6bdf3edbd761",
   "metadata": {},
   "outputs": [
    {
     "data": {
      "text/plain": [
       "pandas.core.indexes.base.Index"
      ]
     },
     "execution_count": 25,
     "metadata": {},
     "output_type": "execute_result"
    }
   ],
   "source": [
    "type(df.columns)"
   ]
  },
  {
   "cell_type": "code",
   "execution_count": 26,
   "id": "d4c17b13-ac18-4d67-b9eb-c5910d88e837",
   "metadata": {},
   "outputs": [
    {
     "data": {
      "text/plain": [
       "RangeIndex(start=0, stop=15433, step=1)"
      ]
     },
     "execution_count": 26,
     "metadata": {},
     "output_type": "execute_result"
    }
   ],
   "source": [
    "df.index"
   ]
  },
  {
   "cell_type": "code",
   "execution_count": 27,
   "id": "9e103c33-d8e3-4a8b-9c89-fa58044e8114",
   "metadata": {},
   "outputs": [
    {
     "data": {
      "text/html": [
       "<div>\n",
       "<style scoped>\n",
       "    .dataframe tbody tr th:only-of-type {\n",
       "        vertical-align: middle;\n",
       "    }\n",
       "\n",
       "    .dataframe tbody tr th {\n",
       "        vertical-align: top;\n",
       "    }\n",
       "\n",
       "    .dataframe thead th {\n",
       "        text-align: right;\n",
       "    }\n",
       "</style>\n",
       "<table border=\"1\" class=\"dataframe\">\n",
       "  <thead>\n",
       "    <tr style=\"text-align: right;\">\n",
       "      <th></th>\n",
       "      <th>City</th>\n",
       "      <th>Year</th>\n",
       "    </tr>\n",
       "  </thead>\n",
       "  <tbody>\n",
       "    <tr>\n",
       "      <th>0</th>\n",
       "      <td>Montreal</td>\n",
       "      <td>1976.0</td>\n",
       "    </tr>\n",
       "    <tr>\n",
       "      <th>1</th>\n",
       "      <td>Montreal</td>\n",
       "      <td>1976.0</td>\n",
       "    </tr>\n",
       "    <tr>\n",
       "      <th>2</th>\n",
       "      <td>Montreal</td>\n",
       "      <td>1976.0</td>\n",
       "    </tr>\n",
       "    <tr>\n",
       "      <th>3</th>\n",
       "      <td>Montreal</td>\n",
       "      <td>1976.0</td>\n",
       "    </tr>\n",
       "    <tr>\n",
       "      <th>4</th>\n",
       "      <td>Montreal</td>\n",
       "      <td>1976.0</td>\n",
       "    </tr>\n",
       "    <tr>\n",
       "      <th>...</th>\n",
       "      <td>...</td>\n",
       "      <td>...</td>\n",
       "    </tr>\n",
       "    <tr>\n",
       "      <th>15428</th>\n",
       "      <td>Beijing</td>\n",
       "      <td>2008.0</td>\n",
       "    </tr>\n",
       "    <tr>\n",
       "      <th>15429</th>\n",
       "      <td>Beijing</td>\n",
       "      <td>2008.0</td>\n",
       "    </tr>\n",
       "    <tr>\n",
       "      <th>15430</th>\n",
       "      <td>Beijing</td>\n",
       "      <td>2008.0</td>\n",
       "    </tr>\n",
       "    <tr>\n",
       "      <th>15431</th>\n",
       "      <td>Beijing</td>\n",
       "      <td>2008.0</td>\n",
       "    </tr>\n",
       "    <tr>\n",
       "      <th>15432</th>\n",
       "      <td>Beijing</td>\n",
       "      <td>2008.0</td>\n",
       "    </tr>\n",
       "  </tbody>\n",
       "</table>\n",
       "<p>15433 rows × 2 columns</p>\n",
       "</div>"
      ],
      "text/plain": [
       "           City    Year\n",
       "0      Montreal  1976.0\n",
       "1      Montreal  1976.0\n",
       "2      Montreal  1976.0\n",
       "3      Montreal  1976.0\n",
       "4      Montreal  1976.0\n",
       "...         ...     ...\n",
       "15428   Beijing  2008.0\n",
       "15429   Beijing  2008.0\n",
       "15430   Beijing  2008.0\n",
       "15431   Beijing  2008.0\n",
       "15432   Beijing  2008.0\n",
       "\n",
       "[15433 rows x 2 columns]"
      ]
     },
     "execution_count": 27,
     "metadata": {},
     "output_type": "execute_result"
    }
   ],
   "source": [
    "df[['City', 'Year']]"
   ]
  },
  {
   "cell_type": "code",
   "execution_count": 28,
   "id": "fb4c3a21-32d0-4cef-9987-37dc74a531fd",
   "metadata": {},
   "outputs": [
    {
     "data": {
      "text/plain": [
       "([1, 2, 3, 4, 5, 6, 7, 8, 9, 0], [7, 9, 11, 13, 5])"
      ]
     },
     "execution_count": 28,
     "metadata": {},
     "output_type": "execute_result"
    }
   ],
   "source": [
    "num1 = [1,2,3,4,5]\n",
    "num2 = [6,7,8,9,0]\n",
    "# Works at macro-level\n",
    "num1+num2, [n1+n2 for n1,n2 in zip(num1,num2)]"
   ]
  },
  {
   "cell_type": "code",
   "execution_count": 29,
   "id": "6a1e8707-b97e-47d0-9ab6-6936ea40dbf7",
   "metadata": {},
   "outputs": [],
   "source": [
    "dummy = pd.DataFrame({'a':[1,2,3,4,5], 'b':[6,7,8,9,0]})"
   ]
  },
  {
   "cell_type": "code",
   "execution_count": 30,
   "id": "37756869-f127-48b3-bfae-d10a4b275a38",
   "metadata": {},
   "outputs": [
    {
     "data": {
      "text/html": [
       "<div>\n",
       "<style scoped>\n",
       "    .dataframe tbody tr th:only-of-type {\n",
       "        vertical-align: middle;\n",
       "    }\n",
       "\n",
       "    .dataframe tbody tr th {\n",
       "        vertical-align: top;\n",
       "    }\n",
       "\n",
       "    .dataframe thead th {\n",
       "        text-align: right;\n",
       "    }\n",
       "</style>\n",
       "<table border=\"1\" class=\"dataframe\">\n",
       "  <thead>\n",
       "    <tr style=\"text-align: right;\">\n",
       "      <th></th>\n",
       "      <th>a</th>\n",
       "      <th>b</th>\n",
       "    </tr>\n",
       "  </thead>\n",
       "  <tbody>\n",
       "    <tr>\n",
       "      <th>0</th>\n",
       "      <td>1</td>\n",
       "      <td>6</td>\n",
       "    </tr>\n",
       "    <tr>\n",
       "      <th>1</th>\n",
       "      <td>2</td>\n",
       "      <td>7</td>\n",
       "    </tr>\n",
       "    <tr>\n",
       "      <th>2</th>\n",
       "      <td>3</td>\n",
       "      <td>8</td>\n",
       "    </tr>\n",
       "    <tr>\n",
       "      <th>3</th>\n",
       "      <td>4</td>\n",
       "      <td>9</td>\n",
       "    </tr>\n",
       "    <tr>\n",
       "      <th>4</th>\n",
       "      <td>5</td>\n",
       "      <td>0</td>\n",
       "    </tr>\n",
       "  </tbody>\n",
       "</table>\n",
       "</div>"
      ],
      "text/plain": [
       "   a  b\n",
       "0  1  6\n",
       "1  2  7\n",
       "2  3  8\n",
       "3  4  9\n",
       "4  5  0"
      ]
     },
     "execution_count": 30,
     "metadata": {},
     "output_type": "execute_result"
    }
   ],
   "source": [
    "dummy"
   ]
  },
  {
   "cell_type": "code",
   "execution_count": 31,
   "id": "0d751bc2-c480-427e-9a0d-9e63a470a812",
   "metadata": {},
   "outputs": [],
   "source": [
    "# Works at icrolevel\n",
    "# Vectorised Operations\n",
    "dummy['sum'] = dummy['a']+dummy['b']"
   ]
  },
  {
   "cell_type": "code",
   "execution_count": 32,
   "id": "52e14838-f613-4d5e-b63c-5bfbf4e22c08",
   "metadata": {},
   "outputs": [
    {
     "data": {
      "text/html": [
       "<div>\n",
       "<style scoped>\n",
       "    .dataframe tbody tr th:only-of-type {\n",
       "        vertical-align: middle;\n",
       "    }\n",
       "\n",
       "    .dataframe tbody tr th {\n",
       "        vertical-align: top;\n",
       "    }\n",
       "\n",
       "    .dataframe thead th {\n",
       "        text-align: right;\n",
       "    }\n",
       "</style>\n",
       "<table border=\"1\" class=\"dataframe\">\n",
       "  <thead>\n",
       "    <tr style=\"text-align: right;\">\n",
       "      <th></th>\n",
       "      <th>a</th>\n",
       "      <th>b</th>\n",
       "      <th>sum</th>\n",
       "    </tr>\n",
       "  </thead>\n",
       "  <tbody>\n",
       "    <tr>\n",
       "      <th>0</th>\n",
       "      <td>1</td>\n",
       "      <td>6</td>\n",
       "      <td>7</td>\n",
       "    </tr>\n",
       "    <tr>\n",
       "      <th>1</th>\n",
       "      <td>2</td>\n",
       "      <td>7</td>\n",
       "      <td>9</td>\n",
       "    </tr>\n",
       "    <tr>\n",
       "      <th>2</th>\n",
       "      <td>3</td>\n",
       "      <td>8</td>\n",
       "      <td>11</td>\n",
       "    </tr>\n",
       "    <tr>\n",
       "      <th>3</th>\n",
       "      <td>4</td>\n",
       "      <td>9</td>\n",
       "      <td>13</td>\n",
       "    </tr>\n",
       "    <tr>\n",
       "      <th>4</th>\n",
       "      <td>5</td>\n",
       "      <td>0</td>\n",
       "      <td>5</td>\n",
       "    </tr>\n",
       "  </tbody>\n",
       "</table>\n",
       "</div>"
      ],
      "text/plain": [
       "   a  b  sum\n",
       "0  1  6    7\n",
       "1  2  7    9\n",
       "2  3  8   11\n",
       "3  4  9   13\n",
       "4  5  0    5"
      ]
     },
     "execution_count": 32,
     "metadata": {},
     "output_type": "execute_result"
    }
   ],
   "source": [
    "dummy"
   ]
  },
  {
   "cell_type": "code",
   "execution_count": 33,
   "id": "279764ae-a977-4a28-883b-293a5b6dfe4f",
   "metadata": {},
   "outputs": [
    {
     "data": {
      "text/plain": [
       "0    False\n",
       "1    False\n",
       "2    False\n",
       "3    False\n",
       "4     True\n",
       "dtype: bool"
      ]
     },
     "execution_count": 33,
     "metadata": {},
     "output_type": "execute_result"
    }
   ],
   "source": [
    "dummy['a']>dummy['b']"
   ]
  },
  {
   "cell_type": "code",
   "execution_count": 34,
   "id": "d8ea2d96-671d-463b-8831-3c9366787dd3",
   "metadata": {},
   "outputs": [
    {
     "data": {
      "text/html": [
       "<div>\n",
       "<style scoped>\n",
       "    .dataframe tbody tr th:only-of-type {\n",
       "        vertical-align: middle;\n",
       "    }\n",
       "\n",
       "    .dataframe tbody tr th {\n",
       "        vertical-align: top;\n",
       "    }\n",
       "\n",
       "    .dataframe thead th {\n",
       "        text-align: right;\n",
       "    }\n",
       "</style>\n",
       "<table border=\"1\" class=\"dataframe\">\n",
       "  <thead>\n",
       "    <tr style=\"text-align: right;\">\n",
       "      <th></th>\n",
       "      <th>a</th>\n",
       "      <th>b</th>\n",
       "      <th>sum</th>\n",
       "    </tr>\n",
       "  </thead>\n",
       "  <tbody>\n",
       "    <tr>\n",
       "      <th>4</th>\n",
       "      <td>5</td>\n",
       "      <td>0</td>\n",
       "      <td>5</td>\n",
       "    </tr>\n",
       "  </tbody>\n",
       "</table>\n",
       "</div>"
      ],
      "text/plain": [
       "   a  b  sum\n",
       "4  5  0    5"
      ]
     },
     "execution_count": 34,
     "metadata": {},
     "output_type": "execute_result"
    }
   ],
   "source": [
    "dummy[dummy['a']>dummy['b']]"
   ]
  },
  {
   "cell_type": "code",
   "execution_count": 35,
   "id": "4e089d90-4581-44b6-b03f-e27433c172c4",
   "metadata": {},
   "outputs": [
    {
     "data": {
      "text/html": [
       "<div>\n",
       "<style scoped>\n",
       "    .dataframe tbody tr th:only-of-type {\n",
       "        vertical-align: middle;\n",
       "    }\n",
       "\n",
       "    .dataframe tbody tr th {\n",
       "        vertical-align: top;\n",
       "    }\n",
       "\n",
       "    .dataframe thead th {\n",
       "        text-align: right;\n",
       "    }\n",
       "</style>\n",
       "<table border=\"1\" class=\"dataframe\">\n",
       "  <thead>\n",
       "    <tr style=\"text-align: right;\">\n",
       "      <th></th>\n",
       "      <th>City</th>\n",
       "      <th>Year</th>\n",
       "      <th>Sport</th>\n",
       "      <th>Discipline</th>\n",
       "      <th>Event</th>\n",
       "      <th>Athlete</th>\n",
       "      <th>Gender</th>\n",
       "      <th>Country_Code</th>\n",
       "      <th>Country</th>\n",
       "      <th>Event_gender</th>\n",
       "      <th>Medal</th>\n",
       "    </tr>\n",
       "  </thead>\n",
       "  <tbody>\n",
       "    <tr>\n",
       "      <th>0</th>\n",
       "      <td>Montreal</td>\n",
       "      <td>1976.0</td>\n",
       "      <td>Aquatics</td>\n",
       "      <td>Diving</td>\n",
       "      <td>3m springboard</td>\n",
       "      <td>K�HLER, Christa</td>\n",
       "      <td>Women</td>\n",
       "      <td>GDR</td>\n",
       "      <td>East Germany</td>\n",
       "      <td>W</td>\n",
       "      <td>Silver</td>\n",
       "    </tr>\n",
       "    <tr>\n",
       "      <th>1</th>\n",
       "      <td>Montreal</td>\n",
       "      <td>1976.0</td>\n",
       "      <td>Aquatics</td>\n",
       "      <td>Diving</td>\n",
       "      <td>3m springboard</td>\n",
       "      <td>KOSENKOV, Aleksandr</td>\n",
       "      <td>Men</td>\n",
       "      <td>URS</td>\n",
       "      <td>Soviet Union</td>\n",
       "      <td>M</td>\n",
       "      <td>Bronze</td>\n",
       "    </tr>\n",
       "    <tr>\n",
       "      <th>2</th>\n",
       "      <td>Montreal</td>\n",
       "      <td>1976.0</td>\n",
       "      <td>Aquatics</td>\n",
       "      <td>Diving</td>\n",
       "      <td>3m springboard</td>\n",
       "      <td>BOGGS, Philip George</td>\n",
       "      <td>Men</td>\n",
       "      <td>USA</td>\n",
       "      <td>United States</td>\n",
       "      <td>M</td>\n",
       "      <td>Gold</td>\n",
       "    </tr>\n",
       "    <tr>\n",
       "      <th>3</th>\n",
       "      <td>Montreal</td>\n",
       "      <td>1976.0</td>\n",
       "      <td>Aquatics</td>\n",
       "      <td>Diving</td>\n",
       "      <td>3m springboard</td>\n",
       "      <td>CAGNOTTO, Giorgio Franco</td>\n",
       "      <td>Men</td>\n",
       "      <td>ITA</td>\n",
       "      <td>Italy</td>\n",
       "      <td>M</td>\n",
       "      <td>Silver</td>\n",
       "    </tr>\n",
       "    <tr>\n",
       "      <th>4</th>\n",
       "      <td>Montreal</td>\n",
       "      <td>1976.0</td>\n",
       "      <td>Aquatics</td>\n",
       "      <td>Diving</td>\n",
       "      <td>10m platform</td>\n",
       "      <td>WILSON, Deborah Keplar</td>\n",
       "      <td>Women</td>\n",
       "      <td>USA</td>\n",
       "      <td>United States</td>\n",
       "      <td>W</td>\n",
       "      <td>Bronze</td>\n",
       "    </tr>\n",
       "  </tbody>\n",
       "</table>\n",
       "</div>"
      ],
      "text/plain": [
       "       City    Year     Sport Discipline           Event  \\\n",
       "0  Montreal  1976.0  Aquatics     Diving  3m springboard   \n",
       "1  Montreal  1976.0  Aquatics     Diving  3m springboard   \n",
       "2  Montreal  1976.0  Aquatics     Diving  3m springboard   \n",
       "3  Montreal  1976.0  Aquatics     Diving  3m springboard   \n",
       "4  Montreal  1976.0  Aquatics     Diving    10m platform   \n",
       "\n",
       "                    Athlete Gender Country_Code        Country Event_gender  \\\n",
       "0           K�HLER, Christa  Women          GDR   East Germany            W   \n",
       "1       KOSENKOV, Aleksandr    Men          URS   Soviet Union            M   \n",
       "2      BOGGS, Philip George    Men          USA  United States            M   \n",
       "3  CAGNOTTO, Giorgio Franco    Men          ITA          Italy            M   \n",
       "4    WILSON, Deborah Keplar  Women          USA  United States            W   \n",
       "\n",
       "    Medal  \n",
       "0  Silver  \n",
       "1  Bronze  \n",
       "2    Gold  \n",
       "3  Silver  \n",
       "4  Bronze  "
      ]
     },
     "execution_count": 35,
     "metadata": {},
     "output_type": "execute_result"
    }
   ],
   "source": [
    "df.head()"
   ]
  },
  {
   "cell_type": "code",
   "execution_count": 36,
   "id": "d0e1a82c-5ec1-413c-92c8-d4846a562e51",
   "metadata": {},
   "outputs": [
    {
     "data": {
      "text/html": [
       "<div>\n",
       "<style scoped>\n",
       "    .dataframe tbody tr th:only-of-type {\n",
       "        vertical-align: middle;\n",
       "    }\n",
       "\n",
       "    .dataframe tbody tr th {\n",
       "        vertical-align: top;\n",
       "    }\n",
       "\n",
       "    .dataframe thead th {\n",
       "        text-align: right;\n",
       "    }\n",
       "</style>\n",
       "<table border=\"1\" class=\"dataframe\">\n",
       "  <thead>\n",
       "    <tr style=\"text-align: right;\">\n",
       "      <th></th>\n",
       "      <th>City</th>\n",
       "      <th>Year</th>\n",
       "      <th>Sport</th>\n",
       "      <th>Discipline</th>\n",
       "      <th>Event</th>\n",
       "      <th>Athlete</th>\n",
       "      <th>Gender</th>\n",
       "      <th>Country_Code</th>\n",
       "      <th>Country</th>\n",
       "      <th>Event_gender</th>\n",
       "      <th>Medal</th>\n",
       "    </tr>\n",
       "  </thead>\n",
       "  <tbody>\n",
       "    <tr>\n",
       "      <th>2288</th>\n",
       "      <td>Moscow</td>\n",
       "      <td>1980.0</td>\n",
       "      <td>Hockey</td>\n",
       "      <td>Hockey</td>\n",
       "      <td>hockey</td>\n",
       "      <td>SINGH, Singh</td>\n",
       "      <td>Men</td>\n",
       "      <td>IND</td>\n",
       "      <td>India</td>\n",
       "      <td>M</td>\n",
       "      <td>Gold</td>\n",
       "    </tr>\n",
       "    <tr>\n",
       "      <th>2289</th>\n",
       "      <td>Moscow</td>\n",
       "      <td>1980.0</td>\n",
       "      <td>Hockey</td>\n",
       "      <td>Hockey</td>\n",
       "      <td>hockey</td>\n",
       "      <td>FERNANDES, Mervyn</td>\n",
       "      <td>Men</td>\n",
       "      <td>IND</td>\n",
       "      <td>India</td>\n",
       "      <td>M</td>\n",
       "      <td>Gold</td>\n",
       "    </tr>\n",
       "    <tr>\n",
       "      <th>2294</th>\n",
       "      <td>Moscow</td>\n",
       "      <td>1980.0</td>\n",
       "      <td>Hockey</td>\n",
       "      <td>Hockey</td>\n",
       "      <td>hockey</td>\n",
       "      <td>GURMAIL, Singh</td>\n",
       "      <td>Men</td>\n",
       "      <td>IND</td>\n",
       "      <td>India</td>\n",
       "      <td>M</td>\n",
       "      <td>Gold</td>\n",
       "    </tr>\n",
       "    <tr>\n",
       "      <th>2302</th>\n",
       "      <td>Moscow</td>\n",
       "      <td>1980.0</td>\n",
       "      <td>Hockey</td>\n",
       "      <td>Hockey</td>\n",
       "      <td>hockey</td>\n",
       "      <td>BASKARAN, Baskaran</td>\n",
       "      <td>Men</td>\n",
       "      <td>IND</td>\n",
       "      <td>India</td>\n",
       "      <td>M</td>\n",
       "      <td>Gold</td>\n",
       "    </tr>\n",
       "    <tr>\n",
       "      <th>2303</th>\n",
       "      <td>Moscow</td>\n",
       "      <td>1980.0</td>\n",
       "      <td>Hockey</td>\n",
       "      <td>Hockey</td>\n",
       "      <td>hockey</td>\n",
       "      <td>ZAFAR, Zafar</td>\n",
       "      <td>Men</td>\n",
       "      <td>IND</td>\n",
       "      <td>India</td>\n",
       "      <td>M</td>\n",
       "      <td>Gold</td>\n",
       "    </tr>\n",
       "    <tr>\n",
       "      <th>2313</th>\n",
       "      <td>Moscow</td>\n",
       "      <td>1980.0</td>\n",
       "      <td>Hockey</td>\n",
       "      <td>Hockey</td>\n",
       "      <td>hockey</td>\n",
       "      <td>MOHAMMAD, Shahid</td>\n",
       "      <td>Men</td>\n",
       "      <td>IND</td>\n",
       "      <td>India</td>\n",
       "      <td>M</td>\n",
       "      <td>Gold</td>\n",
       "    </tr>\n",
       "    <tr>\n",
       "      <th>2320</th>\n",
       "      <td>Moscow</td>\n",
       "      <td>1980.0</td>\n",
       "      <td>Hockey</td>\n",
       "      <td>Hockey</td>\n",
       "      <td>hockey</td>\n",
       "      <td>SINGH, Singh</td>\n",
       "      <td>Men</td>\n",
       "      <td>IND</td>\n",
       "      <td>India</td>\n",
       "      <td>M</td>\n",
       "      <td>Gold</td>\n",
       "    </tr>\n",
       "    <tr>\n",
       "      <th>2339</th>\n",
       "      <td>Moscow</td>\n",
       "      <td>1980.0</td>\n",
       "      <td>Hockey</td>\n",
       "      <td>Hockey</td>\n",
       "      <td>hockey</td>\n",
       "      <td>KAUSHIK, Maharaj Krishon</td>\n",
       "      <td>Men</td>\n",
       "      <td>IND</td>\n",
       "      <td>India</td>\n",
       "      <td>M</td>\n",
       "      <td>Gold</td>\n",
       "    </tr>\n",
       "    <tr>\n",
       "      <th>2341</th>\n",
       "      <td>Moscow</td>\n",
       "      <td>1980.0</td>\n",
       "      <td>Hockey</td>\n",
       "      <td>Hockey</td>\n",
       "      <td>hockey</td>\n",
       "      <td>SURINDER, Singh</td>\n",
       "      <td>Men</td>\n",
       "      <td>IND</td>\n",
       "      <td>India</td>\n",
       "      <td>M</td>\n",
       "      <td>Gold</td>\n",
       "    </tr>\n",
       "    <tr>\n",
       "      <th>2347</th>\n",
       "      <td>Moscow</td>\n",
       "      <td>1980.0</td>\n",
       "      <td>Hockey</td>\n",
       "      <td>Hockey</td>\n",
       "      <td>hockey</td>\n",
       "      <td>KUMAR, Charanjit</td>\n",
       "      <td>Men</td>\n",
       "      <td>IND</td>\n",
       "      <td>India</td>\n",
       "      <td>M</td>\n",
       "      <td>Gold</td>\n",
       "    </tr>\n",
       "    <tr>\n",
       "      <th>2348</th>\n",
       "      <td>Moscow</td>\n",
       "      <td>1980.0</td>\n",
       "      <td>Hockey</td>\n",
       "      <td>Hockey</td>\n",
       "      <td>hockey</td>\n",
       "      <td>SYLVANUS, Dung Dung</td>\n",
       "      <td>Men</td>\n",
       "      <td>IND</td>\n",
       "      <td>India</td>\n",
       "      <td>M</td>\n",
       "      <td>Gold</td>\n",
       "    </tr>\n",
       "    <tr>\n",
       "      <th>2350</th>\n",
       "      <td>Moscow</td>\n",
       "      <td>1980.0</td>\n",
       "      <td>Hockey</td>\n",
       "      <td>Hockey</td>\n",
       "      <td>hockey</td>\n",
       "      <td>DEAVINDER, Singh</td>\n",
       "      <td>Men</td>\n",
       "      <td>IND</td>\n",
       "      <td>India</td>\n",
       "      <td>M</td>\n",
       "      <td>Gold</td>\n",
       "    </tr>\n",
       "    <tr>\n",
       "      <th>2370</th>\n",
       "      <td>Moscow</td>\n",
       "      <td>1980.0</td>\n",
       "      <td>Hockey</td>\n",
       "      <td>Hockey</td>\n",
       "      <td>hockey</td>\n",
       "      <td>AMARJIT RANA, Singh</td>\n",
       "      <td>Men</td>\n",
       "      <td>IND</td>\n",
       "      <td>India</td>\n",
       "      <td>M</td>\n",
       "      <td>Gold</td>\n",
       "    </tr>\n",
       "    <tr>\n",
       "      <th>2375</th>\n",
       "      <td>Moscow</td>\n",
       "      <td>1980.0</td>\n",
       "      <td>Hockey</td>\n",
       "      <td>Hockey</td>\n",
       "      <td>hockey</td>\n",
       "      <td>ALLAN, Schofield</td>\n",
       "      <td>Men</td>\n",
       "      <td>IND</td>\n",
       "      <td>India</td>\n",
       "      <td>M</td>\n",
       "      <td>Gold</td>\n",
       "    </tr>\n",
       "    <tr>\n",
       "      <th>2377</th>\n",
       "      <td>Moscow</td>\n",
       "      <td>1980.0</td>\n",
       "      <td>Hockey</td>\n",
       "      <td>Hockey</td>\n",
       "      <td>hockey</td>\n",
       "      <td>CHETTRI, Chettri</td>\n",
       "      <td>Men</td>\n",
       "      <td>IND</td>\n",
       "      <td>India</td>\n",
       "      <td>M</td>\n",
       "      <td>Gold</td>\n",
       "    </tr>\n",
       "    <tr>\n",
       "      <th>2378</th>\n",
       "      <td>Moscow</td>\n",
       "      <td>1980.0</td>\n",
       "      <td>Hockey</td>\n",
       "      <td>Hockey</td>\n",
       "      <td>hockey</td>\n",
       "      <td>MANEYPANDA, Somaya</td>\n",
       "      <td>Men</td>\n",
       "      <td>IND</td>\n",
       "      <td>India</td>\n",
       "      <td>M</td>\n",
       "      <td>Gold</td>\n",
       "    </tr>\n",
       "    <tr>\n",
       "      <th>9191</th>\n",
       "      <td>Atlanta</td>\n",
       "      <td>1996.0</td>\n",
       "      <td>Tennis</td>\n",
       "      <td>Tennis</td>\n",
       "      <td>singles</td>\n",
       "      <td>PAES, Leander</td>\n",
       "      <td>Men</td>\n",
       "      <td>IND</td>\n",
       "      <td>India</td>\n",
       "      <td>M</td>\n",
       "      <td>Bronze</td>\n",
       "    </tr>\n",
       "    <tr>\n",
       "      <th>11324</th>\n",
       "      <td>Sydney</td>\n",
       "      <td>2000.0</td>\n",
       "      <td>Weightlifting</td>\n",
       "      <td>Weightlifting</td>\n",
       "      <td>69kg</td>\n",
       "      <td>MALLESWARI, Karnam</td>\n",
       "      <td>Women</td>\n",
       "      <td>IND</td>\n",
       "      <td>India</td>\n",
       "      <td>W</td>\n",
       "      <td>Bronze</td>\n",
       "    </tr>\n",
       "    <tr>\n",
       "      <th>13051</th>\n",
       "      <td>Athens</td>\n",
       "      <td>2004.0</td>\n",
       "      <td>Shooting</td>\n",
       "      <td>Shooting</td>\n",
       "      <td>double trap (150 targets)</td>\n",
       "      <td>RATHORE, Rajyavardhan S.</td>\n",
       "      <td>Men</td>\n",
       "      <td>IND</td>\n",
       "      <td>India</td>\n",
       "      <td>M</td>\n",
       "      <td>Silver</td>\n",
       "    </tr>\n",
       "    <tr>\n",
       "      <th>14125</th>\n",
       "      <td>Beijing</td>\n",
       "      <td>2008.0</td>\n",
       "      <td>Boxing</td>\n",
       "      <td>Boxing</td>\n",
       "      <td>69 - 75 kg</td>\n",
       "      <td>KUMAR, Vijender</td>\n",
       "      <td>Men</td>\n",
       "      <td>IND</td>\n",
       "      <td>India</td>\n",
       "      <td>M</td>\n",
       "      <td>Bronze</td>\n",
       "    </tr>\n",
       "    <tr>\n",
       "      <th>15073</th>\n",
       "      <td>Beijing</td>\n",
       "      <td>2008.0</td>\n",
       "      <td>Shooting</td>\n",
       "      <td>Shooting</td>\n",
       "      <td>10m air rifle (60 shots)</td>\n",
       "      <td>BINDRA, Abhinav</td>\n",
       "      <td>Men</td>\n",
       "      <td>IND</td>\n",
       "      <td>India</td>\n",
       "      <td>M</td>\n",
       "      <td>Gold</td>\n",
       "    </tr>\n",
       "    <tr>\n",
       "      <th>15389</th>\n",
       "      <td>Beijing</td>\n",
       "      <td>2008.0</td>\n",
       "      <td>Wrestling</td>\n",
       "      <td>Wrestling Free.</td>\n",
       "      <td>60 - 66kg</td>\n",
       "      <td>KUMAR, Sushil</td>\n",
       "      <td>Men</td>\n",
       "      <td>IND</td>\n",
       "      <td>India</td>\n",
       "      <td>M</td>\n",
       "      <td>Bronze</td>\n",
       "    </tr>\n",
       "  </tbody>\n",
       "</table>\n",
       "</div>"
      ],
      "text/plain": [
       "          City    Year          Sport       Discipline  \\\n",
       "2288    Moscow  1980.0         Hockey           Hockey   \n",
       "2289    Moscow  1980.0         Hockey           Hockey   \n",
       "2294    Moscow  1980.0         Hockey           Hockey   \n",
       "2302    Moscow  1980.0         Hockey           Hockey   \n",
       "2303    Moscow  1980.0         Hockey           Hockey   \n",
       "2313    Moscow  1980.0         Hockey           Hockey   \n",
       "2320    Moscow  1980.0         Hockey           Hockey   \n",
       "2339    Moscow  1980.0         Hockey           Hockey   \n",
       "2341    Moscow  1980.0         Hockey           Hockey   \n",
       "2347    Moscow  1980.0         Hockey           Hockey   \n",
       "2348    Moscow  1980.0         Hockey           Hockey   \n",
       "2350    Moscow  1980.0         Hockey           Hockey   \n",
       "2370    Moscow  1980.0         Hockey           Hockey   \n",
       "2375    Moscow  1980.0         Hockey           Hockey   \n",
       "2377    Moscow  1980.0         Hockey           Hockey   \n",
       "2378    Moscow  1980.0         Hockey           Hockey   \n",
       "9191   Atlanta  1996.0         Tennis           Tennis   \n",
       "11324   Sydney  2000.0  Weightlifting    Weightlifting   \n",
       "13051   Athens  2004.0       Shooting         Shooting   \n",
       "14125  Beijing  2008.0         Boxing           Boxing   \n",
       "15073  Beijing  2008.0       Shooting         Shooting   \n",
       "15389  Beijing  2008.0      Wrestling  Wrestling Free.   \n",
       "\n",
       "                           Event                   Athlete Gender  \\\n",
       "2288                      hockey              SINGH, Singh    Men   \n",
       "2289                      hockey         FERNANDES, Mervyn    Men   \n",
       "2294                      hockey            GURMAIL, Singh    Men   \n",
       "2302                      hockey        BASKARAN, Baskaran    Men   \n",
       "2303                      hockey              ZAFAR, Zafar    Men   \n",
       "2313                      hockey          MOHAMMAD, Shahid    Men   \n",
       "2320                      hockey              SINGH, Singh    Men   \n",
       "2339                      hockey  KAUSHIK, Maharaj Krishon    Men   \n",
       "2341                      hockey           SURINDER, Singh    Men   \n",
       "2347                      hockey          KUMAR, Charanjit    Men   \n",
       "2348                      hockey       SYLVANUS, Dung Dung    Men   \n",
       "2350                      hockey          DEAVINDER, Singh    Men   \n",
       "2370                      hockey       AMARJIT RANA, Singh    Men   \n",
       "2375                      hockey          ALLAN, Schofield    Men   \n",
       "2377                      hockey          CHETTRI, Chettri    Men   \n",
       "2378                      hockey        MANEYPANDA, Somaya    Men   \n",
       "9191                     singles             PAES, Leander    Men   \n",
       "11324                       69kg        MALLESWARI, Karnam  Women   \n",
       "13051  double trap (150 targets)  RATHORE, Rajyavardhan S.    Men   \n",
       "14125                 69 - 75 kg           KUMAR, Vijender    Men   \n",
       "15073   10m air rifle (60 shots)           BINDRA, Abhinav    Men   \n",
       "15389                  60 - 66kg             KUMAR, Sushil    Men   \n",
       "\n",
       "      Country_Code Country Event_gender   Medal  \n",
       "2288           IND   India            M    Gold  \n",
       "2289           IND   India            M    Gold  \n",
       "2294           IND   India            M    Gold  \n",
       "2302           IND   India            M    Gold  \n",
       "2303           IND   India            M    Gold  \n",
       "2313           IND   India            M    Gold  \n",
       "2320           IND   India            M    Gold  \n",
       "2339           IND   India            M    Gold  \n",
       "2341           IND   India            M    Gold  \n",
       "2347           IND   India            M    Gold  \n",
       "2348           IND   India            M    Gold  \n",
       "2350           IND   India            M    Gold  \n",
       "2370           IND   India            M    Gold  \n",
       "2375           IND   India            M    Gold  \n",
       "2377           IND   India            M    Gold  \n",
       "2378           IND   India            M    Gold  \n",
       "9191           IND   India            M  Bronze  \n",
       "11324          IND   India            W  Bronze  \n",
       "13051          IND   India            M  Silver  \n",
       "14125          IND   India            M  Bronze  \n",
       "15073          IND   India            M    Gold  \n",
       "15389          IND   India            M  Bronze  "
      ]
     },
     "execution_count": 36,
     "metadata": {},
     "output_type": "execute_result"
    }
   ],
   "source": [
    "# Medals for India\n",
    "df[df['Country_Code'] == 'IND']"
   ]
  },
  {
   "cell_type": "code",
   "execution_count": 37,
   "id": "c5ab31f2-ece1-4b5c-b832-046373d7f0b2",
   "metadata": {},
   "outputs": [
    {
     "data": {
      "text/plain": [
       "{'Aquatics',\n",
       " 'Archery',\n",
       " 'Athletics',\n",
       " 'Badminton',\n",
       " 'Baseball',\n",
       " 'Basketball',\n",
       " 'Boxing',\n",
       " 'Canoe / Kayak',\n",
       " 'Cycling',\n",
       " 'Equestrian',\n",
       " 'Fencing',\n",
       " 'Football',\n",
       " 'Gymnastics',\n",
       " 'Handball',\n",
       " 'Hockey',\n",
       " 'Judo',\n",
       " 'Modern Pentathlon',\n",
       " 'Rowing',\n",
       " 'Sailing',\n",
       " 'Shooting',\n",
       " 'Softball',\n",
       " 'Table Tennis',\n",
       " 'Taekwondo',\n",
       " 'Tennis',\n",
       " 'Triathlon',\n",
       " 'Volleyball',\n",
       " 'Weightlifting',\n",
       " 'Wrestling',\n",
       " nan}"
      ]
     },
     "execution_count": 37,
     "metadata": {},
     "output_type": "execute_result"
    }
   ],
   "source": [
    "set(df.Sport)"
   ]
  },
  {
   "cell_type": "code",
   "execution_count": 38,
   "id": "05136b43-9d3b-4b5b-a1e7-dde0fbc67092",
   "metadata": {},
   "outputs": [
    {
     "data": {
      "text/plain": [
       "669"
      ]
     },
     "execution_count": 38,
     "metadata": {},
     "output_type": "execute_result"
    }
   ],
   "source": [
    "# How many Football medals have been distributed throughout olympics\n",
    "len(df[df['Sport'] == 'Football'])"
   ]
  },
  {
   "cell_type": "code",
   "execution_count": 39,
   "id": "079b04a8-3736-4377-83d1-46558c14f58d",
   "metadata": {},
   "outputs": [
    {
     "data": {
      "text/plain": [
       "10"
      ]
     },
     "execution_count": 39,
     "metadata": {},
     "output_type": "execute_result"
    }
   ],
   "source": [
    "# How many years this games data is for?\n",
    "len(df.Year.unique())"
   ]
  },
  {
   "cell_type": "code",
   "execution_count": 40,
   "id": "0c8f048e-e7f2-483b-b48f-7a85ce1bf3d5",
   "metadata": {},
   "outputs": [
    {
     "data": {
      "text/plain": [
       "array([1976., 1976., 1976., ..., 2008., 2008., 2008.])"
      ]
     },
     "execution_count": 40,
     "metadata": {},
     "output_type": "execute_result"
    }
   ],
   "source": [
    "df.Year.values"
   ]
  },
  {
   "cell_type": "code",
   "execution_count": 41,
   "id": "6169d43e-3e6a-427b-a6f8-300ee208b38c",
   "metadata": {},
   "outputs": [
    {
     "data": {
      "text/plain": [
       "array([1976.,   nan, 1980., 1984., 1988., 1992., 1996., 2000., 2004.,\n",
       "       2008.])"
      ]
     },
     "execution_count": 41,
     "metadata": {},
     "output_type": "execute_result"
    }
   ],
   "source": [
    "df.Year.unique()"
   ]
  },
  {
   "cell_type": "code",
   "execution_count": 42,
   "id": "a958c888-1871-4fa5-a378-3a3a6526f871",
   "metadata": {},
   "outputs": [],
   "source": [
    "# Is the world getting more egalitarian on gender over the years\n",
    "y1976 = df[df['Year'] == 1976]\n",
    "y2008 = df[df['Year'] == 2008]"
   ]
  },
  {
   "cell_type": "code",
   "execution_count": 43,
   "id": "4028ba99-2bee-40ff-9d20-4e61b625ae62",
   "metadata": {},
   "outputs": [
    {
     "data": {
      "text/plain": [
       "0.41233766233766234"
      ]
     },
     "execution_count": 43,
     "metadata": {},
     "output_type": "execute_result"
    }
   ],
   "source": [
    "len(y1976[y1976['Gender'] == 'Women'])/len(y1976[y1976['Gender'] == 'Men'])"
   ]
  },
  {
   "cell_type": "code",
   "execution_count": 44,
   "id": "ba9cb6f5-6f4d-4b98-be42-c00ef3877162",
   "metadata": {},
   "outputs": [
    {
     "data": {
      "text/plain": [
       "0.8396396396396396"
      ]
     },
     "execution_count": 44,
     "metadata": {},
     "output_type": "execute_result"
    }
   ],
   "source": [
    "len(y2008[y2008['Gender'] == 'Women'])/len(y2008[y2008['Gender'] == 'Men'])"
   ]
  },
  {
   "cell_type": "code",
   "execution_count": 45,
   "id": "78ab9770-bdea-40eb-afb5-6261e197c63d",
   "metadata": {},
   "outputs": [
    {
     "data": {
      "text/plain": [
       "0        1976.0\n",
       "1        1976.0\n",
       "2        1976.0\n",
       "3        1976.0\n",
       "4        1976.0\n",
       "          ...  \n",
       "15428    2008.0\n",
       "15429    2008.0\n",
       "15430    2008.0\n",
       "15431    2008.0\n",
       "15432    2008.0\n",
       "Name: Year, Length: 15433, dtype: float64"
      ]
     },
     "execution_count": 45,
     "metadata": {},
     "output_type": "execute_result"
    }
   ],
   "source": [
    "df['Year']"
   ]
  },
  {
   "cell_type": "code",
   "execution_count": 46,
   "id": "3bcab4da-babb-4268-93ae-9abb3afd3c48",
   "metadata": {},
   "outputs": [
    {
     "data": {
      "text/plain": [
       "Gender\n",
       "Men      924\n",
       "Women    381\n",
       "dtype: int64"
      ]
     },
     "execution_count": 46,
     "metadata": {},
     "output_type": "execute_result"
    }
   ],
   "source": [
    "'''\n",
    "select count(*) from df\n",
    "where Year = 1976\n",
    "group by Gender\n",
    "'''\n",
    "df[df['Year'] == 1976].groupby('Gender').size()"
   ]
  },
  {
   "cell_type": "code",
   "execution_count": 47,
   "id": "3d4e41e5-6a7f-4edf-b036-de59b7162c0f",
   "metadata": {},
   "outputs": [
    {
     "data": {
      "text/plain": [
       "Year    Gender  Medal \n",
       "1976.0  Men     Bronze    321\n",
       "                Gold      302\n",
       "                Silver    301\n",
       "        Women   Bronze    126\n",
       "                Gold      127\n",
       "                Silver    128\n",
       "1980.0  Men     Bronze    328\n",
       "                Gold      317\n",
       "                Silver    313\n",
       "        Women   Bronze    144\n",
       "                Gold      143\n",
       "                Silver    142\n",
       "1984.0  Men     Bronze    338\n",
       "                Gold      320\n",
       "                Silver    315\n",
       "        Women   Bronze    162\n",
       "                Gold      163\n",
       "                Silver    161\n",
       "1988.0  Men     Bronze    352\n",
       "                Gold      334\n",
       "                Silver    325\n",
       "        Women   Bronze    183\n",
       "                Gold      172\n",
       "                Silver    180\n",
       "1992.0  Men     Bronze    391\n",
       "                Gold      358\n",
       "                Silver    356\n",
       "        Women   Bronze    205\n",
       "                Gold      200\n",
       "                Silver    195\n",
       "1996.0  Men     Bronze    374\n",
       "                Gold      356\n",
       "                Silver    352\n",
       "        Women   Bronze    260\n",
       "                Gold      259\n",
       "                Silver    258\n",
       "2000.0  Men     Bronze    386\n",
       "                Gold      370\n",
       "                Silver    370\n",
       "        Women   Bronze    299\n",
       "                Gold      293\n",
       "                Silver    297\n",
       "2004.0  Men     Bronze    376\n",
       "                Gold      361\n",
       "                Silver    362\n",
       "        Women   Bronze    303\n",
       "                Gold      298\n",
       "                Silver    298\n",
       "2008.0  Men     Bronze    391\n",
       "                Gold      362\n",
       "                Silver    357\n",
       "        Women   Bronze    319\n",
       "                Gold      307\n",
       "                Silver    306\n",
       "dtype: int64"
      ]
     },
     "execution_count": 47,
     "metadata": {},
     "output_type": "execute_result"
    }
   ],
   "source": [
    "df.groupby(['Year','Gender', 'Medal']).size()"
   ]
  },
  {
   "cell_type": "code",
   "execution_count": 48,
   "id": "eff1ed5e-8c38-4897-b017-fd7d80e39b46",
   "metadata": {},
   "outputs": [],
   "source": [
    "# Matplotlib\n",
    "import matplotlib.pyplot as plt\n",
    "%matplotlib inline"
   ]
  },
  {
   "cell_type": "code",
   "execution_count": 53,
   "id": "b5b1b222-38fa-4ac3-9a8b-e9586f17e045",
   "metadata": {},
   "outputs": [
    {
     "data": {
      "text/plain": [
       "<AxesSubplot:xlabel='Year,Gender'>"
      ]
     },
     "execution_count": 53,
     "metadata": {},
     "output_type": "execute_result"
    },
    {
     "data": {
      "image/png": "[encoded data removed]",
      "text/plain": [
       "<Figure size 864x432 with 1 Axes>"
      ]
     },
     "metadata": {
      "needs_background": "light"
     },
     "output_type": "display_data"
    }
   ],
   "source": [
    "df.groupby(['Year','Gender']).size().plot(kind = 'bar', figsize = (12,6))"
   ]
  },
  {
   "cell_type": "code",
   "execution_count": 56,
   "id": "d805d14a-d40f-4dc8-ade5-d2655fb85530",
   "metadata": {},
   "outputs": [
    {
     "data": {
      "text/html": [
       "<div>\n",
       "<style scoped>\n",
       "    .dataframe tbody tr th:only-of-type {\n",
       "        vertical-align: middle;\n",
       "    }\n",
       "\n",
       "    .dataframe tbody tr th {\n",
       "        vertical-align: top;\n",
       "    }\n",
       "\n",
       "    .dataframe thead th {\n",
       "        text-align: right;\n",
       "    }\n",
       "</style>\n",
       "<table border=\"1\" class=\"dataframe\">\n",
       "  <thead>\n",
       "    <tr style=\"text-align: right;\">\n",
       "      <th></th>\n",
       "      <th>City</th>\n",
       "      <th>Year</th>\n",
       "      <th>Sport</th>\n",
       "      <th>Discipline</th>\n",
       "      <th>Event</th>\n",
       "      <th>Athlete</th>\n",
       "      <th>Gender</th>\n",
       "      <th>Country_Code</th>\n",
       "      <th>Country</th>\n",
       "      <th>Event_gender</th>\n",
       "      <th>Medal</th>\n",
       "    </tr>\n",
       "  </thead>\n",
       "  <tbody>\n",
       "    <tr>\n",
       "      <th>13391</th>\n",
       "      <td>Beijing</td>\n",
       "      <td>2008.0</td>\n",
       "      <td>Aquatics</td>\n",
       "      <td>Diving</td>\n",
       "      <td>3m springboard</td>\n",
       "      <td>QIN, Kai</td>\n",
       "      <td>Men</td>\n",
       "      <td>CHN</td>\n",
       "      <td>China</td>\n",
       "      <td>M</td>\n",
       "      <td>Bronze</td>\n",
       "    </tr>\n",
       "    <tr>\n",
       "      <th>13392</th>\n",
       "      <td>Beijing</td>\n",
       "      <td>2008.0</td>\n",
       "      <td>Aquatics</td>\n",
       "      <td>Diving</td>\n",
       "      <td>synchronized diving 10m platform</td>\n",
       "      <td>LIN, Yue</td>\n",
       "      <td>Men</td>\n",
       "      <td>CHN</td>\n",
       "      <td>China</td>\n",
       "      <td>M</td>\n",
       "      <td>Gold</td>\n",
       "    </tr>\n",
       "    <tr>\n",
       "      <th>13394</th>\n",
       "      <td>Beijing</td>\n",
       "      <td>2008.0</td>\n",
       "      <td>Aquatics</td>\n",
       "      <td>Diving</td>\n",
       "      <td>synchronized diving 10m platform</td>\n",
       "      <td>DOBROSKOK, Dmitriy</td>\n",
       "      <td>Men</td>\n",
       "      <td>RUS</td>\n",
       "      <td>Russia</td>\n",
       "      <td>M</td>\n",
       "      <td>Bronze</td>\n",
       "    </tr>\n",
       "    <tr>\n",
       "      <th>13396</th>\n",
       "      <td>Beijing</td>\n",
       "      <td>2008.0</td>\n",
       "      <td>Aquatics</td>\n",
       "      <td>Diving</td>\n",
       "      <td>synchronized diving 10m platform</td>\n",
       "      <td>HUO, Liang</td>\n",
       "      <td>Men</td>\n",
       "      <td>CHN</td>\n",
       "      <td>China</td>\n",
       "      <td>M</td>\n",
       "      <td>Gold</td>\n",
       "    </tr>\n",
       "    <tr>\n",
       "      <th>13398</th>\n",
       "      <td>Beijing</td>\n",
       "      <td>2008.0</td>\n",
       "      <td>Aquatics</td>\n",
       "      <td>Diving</td>\n",
       "      <td>synchronized diving 3m springboard</td>\n",
       "      <td>PRYGOROV, Oleksiy</td>\n",
       "      <td>Men</td>\n",
       "      <td>UKR</td>\n",
       "      <td>Ukraine</td>\n",
       "      <td>M</td>\n",
       "      <td>Bronze</td>\n",
       "    </tr>\n",
       "    <tr>\n",
       "      <th>...</th>\n",
       "      <td>...</td>\n",
       "      <td>...</td>\n",
       "      <td>...</td>\n",
       "      <td>...</td>\n",
       "      <td>...</td>\n",
       "      <td>...</td>\n",
       "      <td>...</td>\n",
       "      <td>...</td>\n",
       "      <td>...</td>\n",
       "      <td>...</td>\n",
       "      <td>...</td>\n",
       "    </tr>\n",
       "    <tr>\n",
       "      <th>15428</th>\n",
       "      <td>Beijing</td>\n",
       "      <td>2008.0</td>\n",
       "      <td>Wrestling</td>\n",
       "      <td>Wrestling Gre-R</td>\n",
       "      <td>66 - 74kg</td>\n",
       "      <td>GUENOT, Christophe</td>\n",
       "      <td>Men</td>\n",
       "      <td>FRA</td>\n",
       "      <td>France</td>\n",
       "      <td>M</td>\n",
       "      <td>Bronze</td>\n",
       "    </tr>\n",
       "    <tr>\n",
       "      <th>15429</th>\n",
       "      <td>Beijing</td>\n",
       "      <td>2008.0</td>\n",
       "      <td>Wrestling</td>\n",
       "      <td>Wrestling Gre-R</td>\n",
       "      <td>66 - 74kg</td>\n",
       "      <td>KVIRKELIA, Manuchar</td>\n",
       "      <td>Men</td>\n",
       "      <td>GEO</td>\n",
       "      <td>Georgia</td>\n",
       "      <td>M</td>\n",
       "      <td>Gold</td>\n",
       "    </tr>\n",
       "    <tr>\n",
       "      <th>15430</th>\n",
       "      <td>Beijing</td>\n",
       "      <td>2008.0</td>\n",
       "      <td>Wrestling</td>\n",
       "      <td>Wrestling Gre-R</td>\n",
       "      <td>55 - 60kg</td>\n",
       "      <td>RAHIMOV, Vitaliy</td>\n",
       "      <td>Men</td>\n",
       "      <td>AZE</td>\n",
       "      <td>Azerbaijan</td>\n",
       "      <td>M</td>\n",
       "      <td>Silver</td>\n",
       "    </tr>\n",
       "    <tr>\n",
       "      <th>15431</th>\n",
       "      <td>Beijing</td>\n",
       "      <td>2008.0</td>\n",
       "      <td>Wrestling</td>\n",
       "      <td>Wrestling Gre-R</td>\n",
       "      <td>60 - 66kg</td>\n",
       "      <td>GUENOT, Steeve</td>\n",
       "      <td>Men</td>\n",
       "      <td>FRA</td>\n",
       "      <td>France</td>\n",
       "      <td>M</td>\n",
       "      <td>Gold</td>\n",
       "    </tr>\n",
       "    <tr>\n",
       "      <th>15432</th>\n",
       "      <td>Beijing</td>\n",
       "      <td>2008.0</td>\n",
       "      <td>Wrestling</td>\n",
       "      <td>Wrestling Gre-R</td>\n",
       "      <td>96 - 120kg</td>\n",
       "      <td>LOPEZ, Mijain</td>\n",
       "      <td>Men</td>\n",
       "      <td>CUB</td>\n",
       "      <td>Cuba</td>\n",
       "      <td>M</td>\n",
       "      <td>Gold</td>\n",
       "    </tr>\n",
       "  </tbody>\n",
       "</table>\n",
       "<p>1110 rows × 11 columns</p>\n",
       "</div>"
      ],
      "text/plain": [
       "          City    Year      Sport       Discipline  \\\n",
       "13391  Beijing  2008.0   Aquatics           Diving   \n",
       "13392  Beijing  2008.0   Aquatics           Diving   \n",
       "13394  Beijing  2008.0   Aquatics           Diving   \n",
       "13396  Beijing  2008.0   Aquatics           Diving   \n",
       "13398  Beijing  2008.0   Aquatics           Diving   \n",
       "...        ...     ...        ...              ...   \n",
       "15428  Beijing  2008.0  Wrestling  Wrestling Gre-R   \n",
       "15429  Beijing  2008.0  Wrestling  Wrestling Gre-R   \n",
       "15430  Beijing  2008.0  Wrestling  Wrestling Gre-R   \n",
       "15431  Beijing  2008.0  Wrestling  Wrestling Gre-R   \n",
       "15432  Beijing  2008.0  Wrestling  Wrestling Gre-R   \n",
       "\n",
       "                                    Event              Athlete Gender  \\\n",
       "13391                      3m springboard             QIN, Kai    Men   \n",
       "13392    synchronized diving 10m platform             LIN, Yue    Men   \n",
       "13394    synchronized diving 10m platform   DOBROSKOK, Dmitriy    Men   \n",
       "13396    synchronized diving 10m platform           HUO, Liang    Men   \n",
       "13398  synchronized diving 3m springboard    PRYGOROV, Oleksiy    Men   \n",
       "...                                   ...                  ...    ...   \n",
       "15428                           66 - 74kg   GUENOT, Christophe    Men   \n",
       "15429                           66 - 74kg  KVIRKELIA, Manuchar    Men   \n",
       "15430                           55 - 60kg     RAHIMOV, Vitaliy    Men   \n",
       "15431                           60 - 66kg       GUENOT, Steeve    Men   \n",
       "15432                          96 - 120kg        LOPEZ, Mijain    Men   \n",
       "\n",
       "      Country_Code     Country Event_gender   Medal  \n",
       "13391          CHN       China            M  Bronze  \n",
       "13392          CHN       China            M    Gold  \n",
       "13394          RUS      Russia            M  Bronze  \n",
       "13396          CHN       China            M    Gold  \n",
       "13398          UKR     Ukraine            M  Bronze  \n",
       "...            ...         ...          ...     ...  \n",
       "15428          FRA      France            M  Bronze  \n",
       "15429          GEO     Georgia            M    Gold  \n",
       "15430          AZE  Azerbaijan            M  Silver  \n",
       "15431          FRA      France            M    Gold  \n",
       "15432          CUB        Cuba            M    Gold  \n",
       "\n",
       "[1110 rows x 11 columns]"
      ]
     },
     "execution_count": 56,
     "metadata": {},
     "output_type": "execute_result"
    }
   ],
   "source": [
    " # Combined Conditions\n",
    "df[(df['Gender'] == 'Men') & (df['Year'] == 2008)]\n",
    "## Here and can't be used instead we use '&'.\n",
    "## also as '&' has higher precedence over '==', therefore we have to use () as and when necessary."
   ]
  },
  {
   "cell_type": "code",
   "execution_count": null,
   "id": "967408c6-5c4d-43bd-b57c-a42ef084361f",
   "metadata": {},
   "outputs": [],
   "source": []
  }
 ],
 "metadata": {
  "kernelspec": {
   "display_name": "Python 3",
   "language": "python",
   "name": "python3"
  },
  "language_info": {
   "codemirror_mode": {
    "name": "ipython",
    "version": 3
   },
   "file_extension": ".py",
   "mimetype": "text/x-python",
   "name": "python",
   "nbconvert_exporter": "python",
   "pygments_lexer": "ipython3",
   "version": "3.8.5"
  }
 },
 "nbformat": 4,
 "nbformat_minor": 5
}
