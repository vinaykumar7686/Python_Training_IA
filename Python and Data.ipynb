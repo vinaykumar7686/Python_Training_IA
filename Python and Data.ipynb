{
 "cells": [
  {
   "cell_type": "code",
   "execution_count": 1,
   "id": "db770d38-f0ef-408b-8760-d97b76de766e",
   "metadata": {},
   "outputs": [
    {
     "data": {
      "text/plain": [
       "'\\ncsv : 2d\\njson : 2d+\\nparquet : column oriented formats\\n'"
      ]
     },
     "execution_count": 1,
     "metadata": {},
     "output_type": "execute_result"
    }
   ],
   "source": [
    "# Python and Data\n",
    "'''\n",
    "csv : 2d\n",
    "json : 2d+\n",
    "parquet : column oriented formats\n",
    "'''"
   ]
  },
  {
   "cell_type": "code",
   "execution_count": 20,
   "id": "d3d1f545-3926-4872-a987-4ff76347e01d",
   "metadata": {},
   "outputs": [],
   "source": [
    "import csv"
   ]
  },
  {
   "cell_type": "code",
   "execution_count": 21,
   "id": "a53a6951-009c-466e-96d9-b61f9635b5ab",
   "metadata": {},
   "outputs": [],
   "source": [
    "# Open file\n",
    "f = open('./titanic.csv')\n",
    "# read csv file and store it as opaque object in reader variable\n",
    "reader = csv.reader(f)\n",
    "# list(reader)"
   ]
  },
  {
   "cell_type": "code",
   "execution_count": 22,
   "id": "54836755-3a4a-4b25-b331-03fc472c38da",
   "metadata": {},
   "outputs": [
    {
     "name": "stdout",
     "output_type": "stream",
     "text": [
      "['Survived', 'Pclass', 'Sex', 'Age', 'Siblings/Spouses', 'Parents/Children', 'Fare']\n"
     ]
    }
   ],
   "source": [
    "# next() is used to increase the pointer by one and return the row at which the pointer was previously\n",
    "header = next(reader)\n",
    "print(header)"
   ]
  },
  {
   "cell_type": "code",
   "execution_count": 23,
   "id": "869a11aa-5455-4ff9-8c96-e5416d028982",
   "metadata": {},
   "outputs": [
    {
     "name": "stdout",
     "output_type": "stream",
     "text": [
      "Total 342 no. of people survived.\n"
     ]
    }
   ],
   "source": [
    "# Count total number of people survived.\n",
    "count = 0\n",
    "for row in reader:\n",
    "    if row[0] == \"1\":\n",
    "        count+=1\n",
    "print(f\"Total {count} no. of people survived.\")\n",
    "    \n",
    "    "
   ]
  },
  {
   "cell_type": "code",
   "execution_count": null,
   "id": "200a136a-9fd9-411f-bfe2-fd027078fedc",
   "metadata": {},
   "outputs": [],
   "source": [
    "# JSON"
   ]
  },
  {
   "cell_type": "code",
   "execution_count": 24,
   "id": "333a6272-7e75-4076-a6d9-1cf65e33a8d9",
   "metadata": {},
   "outputs": [],
   "source": [
    "import json"
   ]
  },
  {
   "cell_type": "code",
   "execution_count": 27,
   "id": "59eae731-9e4f-467b-bc90-4dfd42f32ffe",
   "metadata": {},
   "outputs": [],
   "source": [
    "f = open(\"./titanic.json\")\n",
    "titanic = json.load(f)"
   ]
  },
  {
   "cell_type": "code",
   "execution_count": 28,
   "id": "dc5b3b5d-adcf-4c73-9b1b-ee74e03b3fcb",
   "metadata": {},
   "outputs": [
    {
     "data": {
      "text/plain": [
       "list"
      ]
     },
     "execution_count": 28,
     "metadata": {},
     "output_type": "execute_result"
    }
   ],
   "source": [
    "type(titanic)"
   ]
  },
  {
   "cell_type": "code",
   "execution_count": null,
   "id": "40f4671f-6709-4100-a459-00931242b655",
   "metadata": {},
   "outputs": [],
   "source": []
  },
  {
   "cell_type": "code",
   "execution_count": null,
   "id": "998a3fa4-2589-427c-b464-12ddee5424bb",
   "metadata": {},
   "outputs": [],
   "source": []
  }
 ],
 "metadata": {
  "kernelspec": {
   "display_name": "Python 3",
   "language": "python",
   "name": "python3"
  },
  "language_info": {
   "codemirror_mode": {
    "name": "ipython",
    "version": 3
   },
   "file_extension": ".py",
   "mimetype": "text/x-python",
   "name": "python",
   "nbconvert_exporter": "python",
   "pygments_lexer": "ipython3",
   "version": "3.8.5"
  }
 },
 "nbformat": 4,
 "nbformat_minor": 5
}
