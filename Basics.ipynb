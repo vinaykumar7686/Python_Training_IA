{
 "cells": [
  {
   "cell_type": "code",
   "execution_count": null,
   "id": "ec70559e-ca44-4e7a-b372-793eeb86c0fb",
   "metadata": {},
   "outputs": [],
   "source": [
    "# Notes\n",
    "'==' does equality check whereas 'is' checks whether the two objects are same or not"
   ]
  },
  {
   "cell_type": "code",
   "execution_count": 6,
   "id": "39b96db8-189b-4abc-9b7e-7a0fae0ee00f",
   "metadata": {},
   "outputs": [],
   "source": [
    "# LISTS"
   ]
  },
  {
   "cell_type": "code",
   "execution_count": 1,
   "id": "637069ea-c77f-42fc-86e3-d810bfb7f352",
   "metadata": {},
   "outputs": [],
   "source": [
    "prices = [12,24,56]\n",
    "qtys = [2,5,1]\n",
    "items = ['bread', 'egg', 'milk']"
   ]
  },
  {
   "cell_type": "code",
   "execution_count": 2,
   "id": "7ad93017-dd83-42ac-a0e9-54d2bf742405",
   "metadata": {},
   "outputs": [],
   "source": [
    "def itemized_bill(items, qtys, prices):\n",
    "    total = 0\n",
    "    for item, price, qty in zip(items, prices, qtys):\n",
    "        currtotal = price*qty\n",
    "        print(f\"{item}\\t{qty}\\t{currtotal}\")\n",
    "        total+=currtotal\n",
    "\n",
    "    print(f\"TOTAL \\t\\t{total}\")"
   ]
  },
  {
   "cell_type": "code",
   "execution_count": 3,
   "id": "9ed16fa9-763a-4973-9954-d5be9558d94d",
   "metadata": {},
   "outputs": [
    {
     "name": "stdout",
     "output_type": "stream",
     "text": [
      "bread\t2\t24\n",
      "egg\t5\t120\n",
      "milk\t1\t56\n",
      "TOTAL \t\t200\n"
     ]
    }
   ],
   "source": [
    "itemized_bill(items, qtys, prices)"
   ]
  },
  {
   "cell_type": "code",
   "execution_count": 8,
   "id": "2a51fb1e-2174-4f2d-98cc-f8844b7944cf",
   "metadata": {},
   "outputs": [
    {
     "data": {
      "text/plain": [
       "range(1, 5)"
      ]
     },
     "execution_count": 8,
     "metadata": {},
     "output_type": "execute_result"
    }
   ],
   "source": [
    "range(1,5)"
   ]
  },
  {
   "cell_type": "code",
   "execution_count": 9,
   "id": "6edc4c19-99c4-4402-a607-87769fc88713",
   "metadata": {},
   "outputs": [
    {
     "data": {
      "text/plain": [
       "[1, 2, 3, 4]"
      ]
     },
     "execution_count": 9,
     "metadata": {},
     "output_type": "execute_result"
    }
   ],
   "source": [
    "list(range(1,5))"
   ]
  },
  {
   "cell_type": "code",
   "execution_count": 10,
   "id": "55c7127d-4088-44f4-9e37-8c45aed6774a",
   "metadata": {},
   "outputs": [
    {
     "data": {
      "text/plain": [
       "<zip at 0x6402bc8>"
      ]
     },
     "execution_count": 10,
     "metadata": {},
     "output_type": "execute_result"
    }
   ],
   "source": [
    "zip(items, prices)"
   ]
  },
  {
   "cell_type": "code",
   "execution_count": 11,
   "id": "70085a2a-a748-4f2f-91b4-2f68316ea987",
   "metadata": {},
   "outputs": [
    {
     "data": {
      "text/plain": [
       "[('bread', 12), ('egg', 24), ('milk', 56)]"
      ]
     },
     "execution_count": 11,
     "metadata": {},
     "output_type": "execute_result"
    }
   ],
   "source": [
    "list(zip(items, prices))"
   ]
  },
  {
   "cell_type": "code",
   "execution_count": 4,
   "id": "2da32a3b-39fd-4ed5-852a-dd2c6e0af05e",
   "metadata": {},
   "outputs": [],
   "source": [
    " ### While Loop"
   ]
  },
  {
   "cell_type": "code",
   "execution_count": 7,
   "id": "fdc8e86d-938a-4e98-ae48-082fc4ea7044",
   "metadata": {},
   "outputs": [
    {
     "name": "stdin",
     "output_type": "stream",
     "text": [
      "Enter a number 4\n"
     ]
    },
    {
     "name": "stdout",
     "output_type": "stream",
     "text": [
      "4 is a number.\n"
     ]
    }
   ],
   "source": [
    "while True:\n",
    "    num = input(\"Enter a number\")\n",
    "    if num.isdigit():\n",
    "        num = int(num)\n",
    "        print(f'{num} is a number.')\n",
    "        break\n"
   ]
  },
  {
   "cell_type": "code",
   "execution_count": 14,
   "id": "0065e029-2599-4f82-8318-73c6fe2bb12a",
   "metadata": {},
   "outputs": [
    {
     "data": {
      "text/plain": [
       "['a', 'b', 'c', 'd']"
      ]
     },
     "execution_count": 14,
     "metadata": {},
     "output_type": "execute_result"
    }
   ],
   "source": [
    "'a b c d'.split(\" \")"
   ]
  },
  {
   "cell_type": "code",
   "execution_count": 15,
   "id": "81147fc1-337f-4067-8adb-3654c0e829ab",
   "metadata": {},
   "outputs": [],
   "source": [
    "# Dictionaries\n",
    "'''\n",
    "Collection of key, value pairs\n",
    "dict\n",
    "\n",
    "Saves time at cost of memory.\n",
    "'''"
   ]
  },
  {
   "cell_type": "code",
   "execution_count": 16,
   "id": "372a8860-60db-45ec-ad4e-14ba391e0911",
   "metadata": {},
   "outputs": [
    {
     "data": {
      "text/plain": [
       "dict"
      ]
     },
     "execution_count": 16,
     "metadata": {},
     "output_type": "execute_result"
    }
   ],
   "source": [
    "dd = {\n",
    "    'a':1,\n",
    "    'b':2,\n",
    "    'c':3\n",
    "}\n",
    "type(dd)"
   ]
  },
  {
   "cell_type": "code",
   "execution_count": 17,
   "id": "c3c0d905-4667-4998-970d-20a0585e279e",
   "metadata": {},
   "outputs": [],
   "source": [
    "dd['z'] = 26"
   ]
  },
  {
   "cell_type": "code",
   "execution_count": 18,
   "id": "8ee2a775-4403-4e21-a256-0da85ac3f152",
   "metadata": {},
   "outputs": [
    {
     "data": {
      "text/plain": [
       "{'a': 1, 'b': 2, 'c': 3, 'z': 26}"
      ]
     },
     "execution_count": 18,
     "metadata": {},
     "output_type": "execute_result"
    }
   ],
   "source": [
    "dd"
   ]
  },
  {
   "cell_type": "code",
   "execution_count": 19,
   "id": "0f24dc49-3416-4ef8-bbd5-3e02dd30558d",
   "metadata": {},
   "outputs": [
    {
     "data": {
      "text/plain": [
       "26"
      ]
     },
     "execution_count": 19,
     "metadata": {},
     "output_type": "execute_result"
    }
   ],
   "source": [
    "dd.pop('z')"
   ]
  },
  {
   "cell_type": "code",
   "execution_count": 20,
   "id": "1ecab7cd-68b6-4264-90c8-a1d5218dedcc",
   "metadata": {},
   "outputs": [
    {
     "data": {
      "text/plain": [
       "'Not Found'"
      ]
     },
     "execution_count": 20,
     "metadata": {},
     "output_type": "execute_result"
    }
   ],
   "source": [
    "dd.pop('z', \"Not Found\")"
   ]
  },
  {
   "cell_type": "code",
   "execution_count": 21,
   "id": "bf8aa56a-24b0-4635-a0e2-60a68de7fb2a",
   "metadata": {},
   "outputs": [
    {
     "ename": "KeyError",
     "evalue": "'z'",
     "output_type": "error",
     "traceback": [
      "\u001b[1;31m---------------------------------------------------------------------------\u001b[0m",
      "\u001b[1;31mKeyError\u001b[0m                                  Traceback (most recent call last)",
      "\u001b[1;32m<ipython-input-21-286ef10a959d>\u001b[0m in \u001b[0;36m<module>\u001b[1;34m\u001b[0m\n\u001b[1;32m----> 1\u001b[1;33m \u001b[0mdd\u001b[0m\u001b[1;33m[\u001b[0m\u001b[1;34m'z'\u001b[0m\u001b[1;33m]\u001b[0m\u001b[1;33m\u001b[0m\u001b[1;33m\u001b[0m\u001b[0m\n\u001b[0m",
      "\u001b[1;31mKeyError\u001b[0m: 'z'"
     ]
    }
   ],
   "source": [
    "dd['z']"
   ]
  },
  {
   "cell_type": "code",
   "execution_count": 22,
   "id": "adc9c797-bd27-43c3-bd0d-0567d965647a",
   "metadata": {},
   "outputs": [
    {
     "data": {
      "text/plain": [
       "'Not Found'"
      ]
     },
     "execution_count": 22,
     "metadata": {},
     "output_type": "execute_result"
    }
   ],
   "source": [
    "dd.get('z', \"Not Found\")"
   ]
  },
  {
   "cell_type": "code",
   "execution_count": 24,
   "id": "022b5cbc-5570-4359-8210-8ccad269e80d",
   "metadata": {},
   "outputs": [
    {
     "data": {
      "text/plain": [
       "{'bread': 12, 'egg': 24, 'milk': 56}"
      ]
     },
     "execution_count": 24,
     "metadata": {},
     "output_type": "execute_result"
    }
   ],
   "source": [
    "dict(zip(items, prices))"
   ]
  },
  {
   "cell_type": "code",
   "execution_count": 27,
   "id": "4bc31d4e-9953-4696-a9d8-39d290052d42",
   "metadata": {},
   "outputs": [
    {
     "data": {
      "text/plain": [
       "True"
      ]
     },
     "execution_count": 27,
     "metadata": {},
     "output_type": "execute_result"
    }
   ],
   "source": [
    "## Membership check\n",
    "1 in [1,2,3,4,5]\n",
    "'abc' in 'xyzabcdef'\n",
    "'k' in {'a':1,'k':2}"
   ]
  },
  {
   "cell_type": "code",
   "execution_count": 29,
   "id": "480bffcc-0d94-42c4-b030-49724c48ad94",
   "metadata": {},
   "outputs": [
    {
     "data": {
      "text/plain": [
       "{5: 25, 7: 49, 2: 4, 4: 16}"
      ]
     },
     "execution_count": 29,
     "metadata": {},
     "output_type": "execute_result"
    }
   ],
   "source": [
    "# Exercise 1\n",
    "nums = [5,7,2,4,7,5]\n",
    "# lookup square of the number\n",
    "dd = dict(zip(nums,[x**2 for x in nums]))\n",
    "dd"
   ]
  },
  {
   "cell_type": "code",
   "execution_count": 31,
   "id": "acacb971-9250-445e-8b37-0ebb161adfe3",
   "metadata": {},
   "outputs": [
    {
     "data": {
      "text/plain": [
       "{'Rajesh': 1, 'Dinesh': 2, 'Ramesh': 3}"
      ]
     },
     "execution_count": 31,
     "metadata": {},
     "output_type": "execute_result"
    }
   ],
   "source": [
    "# Exercise 2\n",
    "emps = [\n",
    "    [1,'Rajesh'],\n",
    "    [2,'Dinesh'],\n",
    "    [3,'Ramesh']\n",
    "]\n",
    "# Lookup empid using names\n",
    "dd = dict(zip([x[1] for x in emps], [x[0] for x in emps]))\n",
    "dd\n"
   ]
  },
  {
   "cell_type": "code",
   "execution_count": 35,
   "id": "5c3f9108-f793-4d1c-8597-cc4cdf04007c",
   "metadata": {},
   "outputs": [
    {
     "name": "stdout",
     "output_type": "stream",
     "text": [
      "2 is equal to 2\n"
     ]
    }
   ],
   "source": [
    "if 2==2:print('2 is equal to 2')"
   ]
  },
  {
   "cell_type": "code",
   "execution_count": 50,
   "id": "f804b0d1-f9f0-4e4b-86ee-d66ebbcd97a5",
   "metadata": {},
   "outputs": [],
   "source": [
    "a = '2'\n",
    "b = '2'\n",
    "b = '3'\n",
    "b = a+\"\""
   ]
  },
  {
   "cell_type": "code",
   "execution_count": 51,
   "id": "237dc7c7-6c3f-40bc-ba80-7684135ef47d",
   "metadata": {},
   "outputs": [
    {
     "data": {
      "text/plain": [
       "True"
      ]
     },
     "execution_count": 51,
     "metadata": {},
     "output_type": "execute_result"
    }
   ],
   "source": [
    "a is b"
   ]
  },
  {
   "cell_type": "code",
   "execution_count": 52,
   "id": "519dbc3a-4269-4d2e-954b-03e49109950d",
   "metadata": {},
   "outputs": [],
   "source": [
    "# Strings"
   ]
  },
  {
   "cell_type": "code",
   "execution_count": 53,
   "id": "155ab65b-ec24-416f-884a-1db682b6c76e",
   "metadata": {},
   "outputs": [
    {
     "data": {
      "text/plain": [
       "'dbhcbhsc'"
      ]
     },
     "execution_count": 53,
     "metadata": {},
     "output_type": "execute_result"
    }
   ],
   "source": [
    "\"dbhcbhsc\""
   ]
  },
  {
   "cell_type": "code",
   "execution_count": 55,
   "id": "c38e4148-133f-4c5e-ad38-1a5339771cb8",
   "metadata": {},
   "outputs": [
    {
     "data": {
      "text/plain": [
       "'dnjend\\nj\\ne'"
      ]
     },
     "execution_count": 55,
     "metadata": {},
     "output_type": "execute_result"
    }
   ],
   "source": [
    "'''dnjend\n",
    "j\n",
    "e'''"
   ]
  },
  {
   "cell_type": "code",
   "execution_count": 57,
   "id": "2241c3ff-5c02-41ef-bf67-2fbc2606a6dc",
   "metadata": {},
   "outputs": [
    {
     "data": {
      "text/plain": [
       "str"
      ]
     },
     "execution_count": 57,
     "metadata": {},
     "output_type": "execute_result"
    }
   ],
   "source": [
    "type('''s\n",
    "wd\n",
    "s\n",
    "'''\n",
    ")"
   ]
  },
  {
   "cell_type": "code",
   "execution_count": 58,
   "id": "9564b3c2-bca9-48fa-862d-4398c6e8fceb",
   "metadata": {},
   "outputs": [],
   "source": [
    "emps = '''\n",
    "1,tony,ceo\n",
    "2,pepper,cfo\n",
    "3,peter,intern\n",
    "'''"
   ]
  },
  {
   "cell_type": "code",
   "execution_count": 62,
   "id": "8e9d91a2-e394-4f4f-84af-e2cac2947199",
   "metadata": {},
   "outputs": [
    {
     "data": {
      "text/plain": [
       "'\\n1,tony,ceo\\n2,pepper,cfo\\n3,peter,intern\\n'"
      ]
     },
     "execution_count": 62,
     "metadata": {},
     "output_type": "execute_result"
    }
   ],
   "source": [
    "emps"
   ]
  },
  {
   "cell_type": "code",
   "execution_count": 63,
   "id": "2a0325ae-64f2-4f82-b3e5-250819707084",
   "metadata": {},
   "outputs": [
    {
     "data": {
      "text/plain": [
       "'1,tony,ceo\\n2,pepper,cfo\\n3,peter,intern'"
      ]
     },
     "execution_count": 63,
     "metadata": {},
     "output_type": "execute_result"
    }
   ],
   "source": [
    "emps.strip()"
   ]
  },
  {
   "cell_type": "code",
   "execution_count": 65,
   "id": "4a504e86-7869-40fe-8258-2bd32c1dcb97",
   "metadata": {},
   "outputs": [
    {
     "data": {
      "text/plain": [
       "['1,tony,ceo', '2,pepper,cfo', '3,peter,intern']"
      ]
     },
     "execution_count": 65,
     "metadata": {},
     "output_type": "execute_result"
    }
   ],
   "source": [
    "emps.strip().splitlines()"
   ]
  },
  {
   "cell_type": "code",
   "execution_count": 66,
   "id": "7cf36c8f-1ae1-457a-9af2-53a5721f61c6",
   "metadata": {},
   "outputs": [],
   "source": [
    "emps = emps.strip().splitlines()"
   ]
  },
  {
   "cell_type": "code",
   "execution_count": 67,
   "id": "6f5f1ebc-ce91-49a1-ba8b-9284f44433e0",
   "metadata": {},
   "outputs": [
    {
     "data": {
      "text/plain": [
       "[['1', 'tony', 'ceo'], ['2', 'pepper', 'cfo'], ['3', 'peter', 'intern']]"
      ]
     },
     "execution_count": 67,
     "metadata": {},
     "output_type": "execute_result"
    }
   ],
   "source": [
    "empinfo = []\n",
    "for emp in emps:\n",
    "    empinfo.append(emp.split(','))\n",
    "    \n",
    "empinfo\n",
    "    "
   ]
  },
  {
   "cell_type": "code",
   "execution_count": null,
   "id": "d201dca7-13a7-4c4f-84fe-cd36027012a2",
   "metadata": {},
   "outputs": [],
   "source": []
  }
 ],
 "metadata": {
  "kernelspec": {
   "display_name": "Python 3",
   "language": "python",
   "name": "python3"
  },
  "language_info": {
   "codemirror_mode": {
    "name": "ipython",
    "version": 3
   },
   "file_extension": ".py",
   "mimetype": "text/x-python",
   "name": "python",
   "nbconvert_exporter": "python",
   "pygments_lexer": "ipython3",
   "version": "3.8.5"
  }
 },
 "nbformat": 4,
 "nbformat_minor": 5
}
